{
  "nbformat": 4,
  "nbformat_minor": 0,
  "metadata": {
    "colab": {
      "name": "FIA_Pos_DS_LAAIA1 - Aula 4:  Analytics - Teste de Hipótese - 06.10.2020.ipynb",
      "provenance": [],
      "toc_visible": true,
      "authorship_tag": "ABX9TyOV7sLDZdGlHy6eD2YcA0YM",
      "include_colab_link": true
    },
    "kernelspec": {
      "name": "python3",
      "display_name": "Python 3"
    }
  },
  "cells": [
    {
      "cell_type": "markdown",
      "metadata": {
        "id": "view-in-github",
        "colab_type": "text"
      },
      "source": [
        "<a href=\"https://colab.research.google.com/github/andretocci/LAAIA1/blob/main/FIA_Pos_DS_LAAIA1_Aula_4_Analytics_Teste_de_Hip%C3%B3tese_06_10_2020.ipynb\" target=\"_parent\"><img src=\"https://colab.research.google.com/assets/colab-badge.svg\" alt=\"Open In Colab\"/></a>"
      ]
    },
    {
      "cell_type": "markdown",
      "metadata": {
        "id": "PkVLTYkXHJTy"
      },
      "source": [
        "# Tema da Aula: Analytics - Teste de Hipótese - 06.10.2020\n",
        "\n",
        "[Drive Interno](https://drive.google.com/drive/folders/1cQTftYpdJ4uF1NcX6WJklgEc_zAnPf2c)\n",
        "\n",
        "[Notion: Anotações da aula: Teste de Hipótese](https://www.notion.so/Teste-de-Hip-tese-f8af4d124527449ea9ce36941946d333)\n",
        "\n",
        "1. Estimação Intervalar\n",
        "  - Margem de erro\n",
        "  - Intervalo de confiança\n",
        "\n",
        "2. Teste de Hipóteses\n",
        "  - Formulação das hipóteses\n",
        "  - Nível de significância e confiança do teste\n",
        "  - Regra de decisão"
      ]
    },
    {
      "cell_type": "markdown",
      "metadata": {
        "id": "J-LS2XMI3Y_f"
      },
      "source": [
        "## Imports"
      ]
    },
    {
      "cell_type": "code",
      "metadata": {
        "id": "veDgs-QsHKD_",
        "outputId": "861bd318-3e21-4e38-e484-f0452226c36c",
        "colab": {
          "base_uri": "https://localhost:8080/",
          "height": 33
        }
      },
      "source": [
        "import numpy as np\n",
        "import scipy.stats\n",
        "import scipy.stats as st\n",
        "from scipy.stats import binom\n",
        "\n",
        "!pip install --upgrade --quiet git+https://github.com/andretocci/statcc\n",
        "from statcc import statcc"
      ],
      "execution_count": 1,
      "outputs": [
        {
          "output_type": "stream",
          "text": [
            "  Building wheel for statcc (setup.py) ... \u001b[?25l\u001b[?25hdone\n"
          ],
          "name": "stdout"
        }
      ]
    },
    {
      "cell_type": "markdown",
      "metadata": {
        "id": "i9aCi6y23bgm"
      },
      "source": [
        "## 1. Estimação Intervalar\n",
        "\n",
        "### Exemplo 1\n",
        "\n",
        "Podemos estimar o peso de mulheres brasileiras entre 18 a 70 anos, por\n",
        "exemplo, por meio de uma pesquisa amostral.\n",
        "\n",
        "-  Estima-se o parâmetro populacional por meio de um estimador pontual xlj.\n",
        "Ex.: Para inferir o peso da população brasileira, foi realizada uma pesquisa\n",
        "com 50 mulheres na faixa etária de interesse e foi obtido um valor médio de\n",
        "63 kg.\n",
        "\n",
        "Por se tratar de dados amostrais, existe uma incerteza atrelada na estimativa\n",
        "pontual. O propósito da **estimativa intervalar é fornecer a informação** sobre\n",
        "quão próximo a **estimativa pontual está em relação ao parâmetro populacional**,\n",
        "fornecendo um intervalo de confiança.\n",
        "\n",
        "- Estimativa intervalar = x_barra ± margem de erro => 63 kg ± 15,7 kg.\n",
        "\n",
        "\n",
        "### Exemplo 2\n",
        "\n",
        "Uma fábrica de doces artesanais comercializa vários tipos de doces, incluindo cupcakes. O diretor da fábrica recebeu reclamações de alguns pontos de venda dizendo que o “tamanho” dos cupcakes estavam vindo pequenos demais, não mantendo o mesmo padrão do passado, impactando nas vendas deste item.\n",
        "\n",
        "Uma forma de padronizar o “tamanho” dos cupcakes seria produzi-los com o peso de 100 grs cada. Depois da produção de centenas de cupcakes em um dia, o diretor da fábrica tirou uma amostra de 50 itens, e pesou um a um em uma balança de precisão.\n",
        "\n",
        "Podemos inferir para todos os cupcakes produzidos naquele dia que realmente o peso médio foi de 100 grs?\n",
        "\n",
        "**Resposta:** Apesar da estimativa pontual apresentar um valor médio de\n",
        "95 grs, pela estimativa intervalar, podemos concluir que os\n",
        "cupcakes tem em média 100 grs, uma vez que os valores\n",
        "variam entre 85 grs a 105 grs."
      ]
    },
    {
      "cell_type": "markdown",
      "metadata": {
        "id": "5YO9qJ53448-"
      },
      "source": [
        "### Como obter a margem de erro?\n",
        "\n",
        "A **margem de erro** é obtida utilizando as seguintes informações:\n",
        "\n",
        "1. Tamanho amostral n\n",
        "2. Desvio padrão\n",
        "3. Estatística do teste com base em um modelo probabilístico teórico\n",
        "\n",
        "As informações 2. e 3. são utilizadas de **formas diferentes**, caso o **desvio padrão** deva ser estimado por meio de uma amostra.\n",
        "\n",
        "Ex.\n",
        "\n",
        "O desvio padrão populacional s é conhecido?\n",
        "- **Sim**: Utiliza-se a distribuição z;\n",
        "\n",
        "    ![MOE](https://wikimedia.org/api/rest_v1/media/math/render/svg/a68cfb9b1dbbd45c9f4e0aa5f761a6432d883886)\n",
        "- Não: Usa o desvio padrão amostral s para estimar o sigma e a distribuição t; "
      ]
    },
    {
      "cell_type": "code",
      "metadata": {
        "id": "65y_gRKX9dI-"
      },
      "source": [
        "\n",
        "def margem_de_erro(z_value, std, n):\n",
        "\n",
        "  margem_erro = z_value * (std / (n ** 0.5))\n",
        "\n",
        "  return margem_erro\n",
        "\n",
        "def margem_de_erro_t(t, std_amostral, n):\n",
        "  \"\"\" \n",
        "  Trata-se da mesma fórmula de margem de erro, mas com notações diferentes.\n",
        "  \"\"\"\n",
        "\n",
        "  margem_erro = t * (std_amostral / (n ** 0.5))\n",
        "\n",
        "  return margem_erro\n",
        "\n",
        "def intervalo_confianca(x, margem_de_erro):\n",
        "  return x - margem_de_erro, x + margem_de_erro\n"
      ],
      "execution_count": null,
      "outputs": []
    },
    {
      "cell_type": "markdown",
      "metadata": {
        "id": "VwAXImRrAqgJ"
      },
      "source": [
        "### Exercícios"
      ]
    },
    {
      "cell_type": "markdown",
      "metadata": {
        "id": "SR8zlR6kHMjV"
      },
      "source": [
        "#### Ex 1 Case: Empreendimento Imobiliário\n",
        "\n",
        "Uma construtora está avaliando a localização para um novo empreendimento imobiliário de alto padrão, com base na renda média mensal dos moradores deste novo local.\n",
        "\n",
        "Uma amostra de tamanho **n = 36** foi retirada, e a **renda média da amostra foi de R$ 31.100.** Considere o **desvio padrão populacional da renda de 4500 reais**.\n",
        "\n",
        "Calcule o intervalo de confiança da renda média para esta região utilizando **confiança de 0,95**.\n",
        "\n",
        "Desvio padrão e média conhecido, precisa encontrar o valor de Z com determinada confiânça;"
      ]
    },
    {
      "cell_type": "code",
      "metadata": {
        "id": "bwy1I8gP9P53"
      },
      "source": [
        "class statcc: \n",
        "\n",
        "    def __init__(self):\n",
        "\n",
        "        self.tipo_do_teste = None\n",
        "        self.tipo_da_hipotese = None \n",
        "\n",
        "    ## Margem de erro\n",
        "    #################\n",
        "\n",
        "    def cadastrar_teste(self, tipo = 'z'):\n",
        "        \"\"\"\n",
        "        Método para definição de qual será o tipo do teste.\n",
        "\n",
        "        Pode receber valor 't' para um t-test ou 'z'para um z-test.\n",
        "        \"\"\"\n",
        "        self.tipo_do_teste = tipo\n",
        "\n",
        "    def cadastrar_hipotese(self, tipo = 'bilateral'):\n",
        "        \"\"\"\n",
        "        Método para definição de qual será o tipo da hipotese, se será unilateral ou bilateral.\n",
        "\n",
        "        Pode receber valor 't' para um t-test ou 'z'para um z-test.\n",
        "        \"\"\"\n",
        "        self.tipo_da_hipotese = tipo\n",
        "\n",
        "    def margem_de_erro(z_value, desvio_padrao, n):\n",
        "\n",
        "        margem_erro = z_value * (desvio_padrao / (n ** 0.5))\n",
        "\n",
        "        return margem_erro\n",
        "\n",
        "    def margem_de_erro_t(t, desvio_padrao_amostral, n):\n",
        "        \"\"\" \n",
        "        Trata-se da mesma fórmula de margem de erro, mas com notações diferentes.\n",
        "        \"\"\"\n",
        "\n",
        "        return t * (desvio_padrao_amostral / (n ** 0.5))\n",
        "\n",
        "    def intervalo_confianca(media_amostral, margem_de_erro):\n",
        "        return media_amostral - margem_de_erro, media_amostral + margem_de_erro\n",
        "\n",
        "\n",
        "    def tamanho_amostral( z_value, desvio_padrao, error_margin):\n",
        "        return ((z_value ** 2) * ( desvio_padrao ** 2) / (error_margin ** 2) )\n",
        "\n",
        "    def margem_de_erro_finita(self, z_value, desvio_padrao, n_sample, n_population):\n",
        "\n",
        "        parte1 = self.margem_de_erro(z_value, desvio_padrao, n_sample)\n",
        "\n",
        "        ajuste_n = ((n_population - n_sample) / (n_population - 1)) ** 0.5\n",
        "\n",
        "        return parte1 * ajuste_n\n",
        "\n",
        "    def tamanho_amostral_finita(z_value, desvio_padrao, error_margin, n_population):\n",
        "\n",
        "        parte_de_cima = (z_value**2) * (desvio_padrao**2) * (n_population)\n",
        "        parte_de_baixo = ((error_margin**2) * (n_population - 1)) + ((z_value**2) * (desvio_padrao**2))\n",
        "\n",
        "        return parte_de_cima / parte_de_baixo\n",
        "\n",
        "    ## Teste de Hipoteses\n",
        "\n",
        "    def calculo_z(x_barra, media_populacional, desvio_padrao, n):\n",
        "        return (x_barra - media_populacional) / (desvio_padrao / (n**0.5))\n",
        "\n",
        "    def calculo_t(x_barra, media_populacional, s, n):\n",
        "        return (x_barra - media_populacional) /( s / (n**0.5))\n",
        "\n",
        "    def z_value(self, confianca):\n",
        "        \"\"\"\n",
        "        Retorna o valor de Z com base em um nível de confiânça. Tipo indica se valor avaliado é uni ou bilateral.\n",
        "        \n",
        "        import scipy.stats as st\n",
        "        st.norm.ppf()\n",
        "        \"\"\"\n",
        "        if self.tipo_do_teste == 'bilateral':\n",
        "            alpha = 1 - confianca\n",
        "            alpha = alpha / 2\n",
        "            confianca = 1 - alpha\n",
        "        Z = st.norm.ppf(confianca)\n",
        "\n",
        "        return Z\n",
        "\n",
        "    def teste_de_hipoteses(self, n, media_populacional, media_amostral, desvio_padrao, confianca):\n",
        "        \"\"\"\n",
        "        tipo_hipotese => ['bilateral', '>', '<']\n",
        "        teste => 't ou 'z'\n",
        "        \"\"\"\n",
        "\n",
        "        if self.tipo_do_teste == 't':\n",
        "            s = desvio_padrao\n",
        "\n",
        "        # Defina H0 e H1\n",
        "        H0 = 'H0: u = ' + str(media_populacional)\n",
        "        if self.tipo_da_hipotese == 'bilateral':\n",
        "            H1 = 'H1: u != '+ str(media_populacional)\n",
        "        else:\n",
        "            H1 = f'H1: u {self.tipo_da_hipotese} '+ str(media_populacional)\n",
        "\n",
        "        print('Definindo Hipoteses:')\n",
        "        print(H0)\n",
        "        print(H1)\n",
        "\n",
        "        if self.tipo_da_hipotese == 'bilateral':\n",
        "            alpha = 1 - confianca\n",
        "            alpha = alpha / 2\n",
        "            confianca = 1 - alpha\n",
        "        else:\n",
        "            alpha = 1 - confianca\n",
        "        print(f'Confiança: {confianca}')\n",
        "        print(f'Alpha: {alpha}')\n",
        "\n",
        "\n",
        "        # Encontrando estatística do teste\n",
        "        if self.tipo_do_teste == 't':\n",
        "            t = self.calculo_t(media_amostral, media_populacional, s, n)\n",
        "            print(f'\\nValor de t: {t}')\n",
        "        else:\n",
        "            z = self.calculo_z(media_amostral, media_populacional, desvio_padrao, n)\n",
        "            print(f'\\nValor de Z: {z}')\n",
        "\n",
        "\n",
        "        print('_____________')\n",
        "\n",
        "        ##############################\n",
        "        ## Decisão pela região crítica\n",
        "        ##############################\n",
        "\n",
        "        print('\\n>>> Decisão pela região crítica\\n')\n",
        "\n",
        "        import scipy.stats as st\n",
        "\n",
        "        if self.tipo_do_teste == 't':\n",
        "            graus_de_liberdade = n -1\n",
        "            t0 = scipy.stats.t.ppf(confianca, graus_de_liberdade)\n",
        "            print('T0 com confiança de', confianca,'->', t0)\n",
        "        else:\n",
        "            # Inputa a probabilidade e ele mostra o Z\n",
        "            z0 = st.norm.ppf(confianca)\n",
        "            print('Z0 com confiança de', confianca,'->', z0)\n",
        "\n",
        "        print('_____________')\n",
        "\n",
        "        #######################\n",
        "        ## Decisão pelo p-valor\n",
        "        #######################\n",
        "\n",
        "        print('\\n>>> Decisão pelo p-valor\\n')\n",
        "\n",
        "        if self.tipo_do_teste == 't':\n",
        "            if t > 0:\n",
        "                p_value = scipy.stats.t.sf(t, graus_de_liberdade)\n",
        "            else:\n",
        "                p_value = scipy.stats.t.sf(t * (-1), graus_de_liberdade)\n",
        "        else:\n",
        "            if z > 0:\n",
        "                p_value = scipy.stats.norm.sf(z)\n",
        "            else:\n",
        "                p_value = scipy.stats.norm.sf(z * (-1))\n",
        "\n",
        "        if self.tipo_da_hipotese == 'bilateral':\n",
        "            p_value *= 2\n",
        "            alpha *= 2\n",
        "\n",
        "        print(f'P Valor do Teste: {p_value}')\n",
        "        print(f'Valor Alpha: {alpha}')\n",
        "        print('_____________')\n",
        "\n",
        "        #########################\n",
        "        ## Intervalo de Confiânça\n",
        "        #########################\n",
        "\n",
        "        print('\\n>>> Intervalo de Confiânça\\n')\n",
        "\n",
        "        if self.tipo_do_teste == 't':\n",
        "            margem = self.margem_de_erro_t(t0, s, n)\n",
        "        else:\n",
        "            margem = self.margem_de_erro(z0, desvio_padrao, n)\n",
        "\n",
        "        #Calculando intervalo de confiança\n",
        "        intervalo = self.intervalo_confianca(media_amostral, margem)\n",
        "        print(f'Intervalo de Confiança: {intervalo}')\n",
        "        print('_____________')\n",
        "\n",
        "    class proporcao():\n",
        "        \"\"\"\n",
        "        - ME é a margem de erro do estudo.\n",
        "        - Z é o valor da Distribuição\n",
        "        Normal que fornece a\n",
        "        confiança desejada.\n",
        "        - proporcao_amostral(1 − proporcao_amostral) é a variância estimada que é função de proporcao_amostral fornecido \n",
        "        pela amostra piloto.\n",
        "        - N é o tamanho populacional.\n",
        "        \"\"\"\n",
        "        pass\n",
        "\n",
        "        def hipotese(proporcao_populacional, proporcao_amostral, n):\n",
        "            \"\"\"\n",
        "            proporcao_populacional é a proporção populacional\n",
        "            O proporcao_amostral é a proporção amostral \n",
        "            n é o tamanho da amostra\n",
        "            \"\"\"\n",
        "\n",
        "            superior = (proporcao_amostral - proporcao_populacional)\n",
        "            inferior = (proporcao_populacional*(1-proporcao_populacional)) / n\n",
        "\n",
        "            return superior / (inferior ** 0.5)\n",
        "\n",
        "\n",
        "        def intervalo_confianca(proporcao_amostral, margem_erro):\n",
        "            return proporcao_amostral - margem_erro, proporcao_amostral + margem_erro\n",
        "\n",
        "        def margem_de_erro(z, proporcao_amostral, n):\n",
        "            temp = (proporcao_amostral* (1- proporcao_amostral)) / n\n",
        "            me = z * (temp ** 0.5)\n",
        "            return me\n",
        "\n",
        "        def tamanho_amostral(z_value, proporcao_amostral, error_margin):\n",
        "\n",
        "            return ((z_value ** 2) * (proporcao_amostral * (1 - proporcao_amostral) ) / (error_margin ** 2) )\n",
        "\n",
        "        def margem_de_erro_finita(z_value, proporcao_amostral, n_sample, n_population):\n",
        "\n",
        "            parte1 = statcc.proporcao.margem_de_erro(z_value, proporcao_amostral, n_sample)\n",
        "\n",
        "            ajuste_n = ((n_population - n_sample) / (n_population - 1)) ** 0.5\n",
        "\n",
        "            return parte1 * ajuste_n\n",
        "\n",
        "        def tamanho_amostral_finita(z_value, proporcao_amostral, error_margin, n_population):\n",
        "\n",
        "            parte_de_cima = (z_value**2) * (proporcao_amostral * (1 - proporcao_amostral)) * (n_population)\n",
        "            parte_de_baixo = ((error_margin**2) * (n_population - 1)) + ((z_value**2) * (proporcao_amostral * (1 - proporcao_amostral)))\n",
        "\n",
        "            return parte_de_cima / parte_de_baixo\n",
        "\n",
        "        def teste_de_hipoteses(proporcao_populacional, proporcao_amostral, n, confianca, tipo_hipotese):\n",
        "            \"\"\"\n",
        "            tipo_hipotese => ['bilateral', '>', '<']\n",
        "            \"\"\"\n",
        "\n",
        "            # Defina H0 e H1\n",
        "            H0 = 'H0: u = ' + str(proporcao_populacional)\n",
        "            if tipo_hipotese == 'bilateral':\n",
        "                H1 = 'H1: u != '+ str(proporcao_populacional)\n",
        "            else:\n",
        "                H1 = f'H1: u {tipo_hipotese} '+ str(proporcao_populacional)\n",
        "\n",
        "            print('Definindo Hipoteses:')\n",
        "            print(H0)\n",
        "            print(H1)\n",
        "\n",
        "            if tipo_hipotese == 'bilateral':\n",
        "                alpha = 1 - confianca\n",
        "                alpha = alpha / 2\n",
        "                confianca = 1 - alpha\n",
        "            else:\n",
        "                alpha = 1 - confianca\n",
        "            print(f'Confiança: {confianca}')\n",
        "            print(f'Alpha: {alpha}')\n",
        "\n",
        "            # Encontrando estatística do teste\n",
        "            z = statcc.proporcao.hipotese(proporcao_populacional, proporcao_amostral, n)\n",
        "            print(f'\\nValor de Z: {z}')\n",
        "            print('_____________')\n",
        "\n",
        "            ##############################\n",
        "            ## Decisão pela região crítica\n",
        "            ##############################\n",
        "\n",
        "            print('\\n>>> Decisão pela região crítica\\n')\n",
        "\n",
        "            # Inputa a probabilidade e ele mostra o Z\n",
        "            z0 = st.norm.ppf(confianca)\n",
        "            print('Z0 com confiança de', confianca,'->', z0)\n",
        "\n",
        "            print('_____________')\n",
        "\n",
        "            #######################\n",
        "            ## Decisão pelo p-valor\n",
        "            #######################\n",
        "\n",
        "            print('\\n>>> Decisão pelo p-valor\\n')\n",
        "\n",
        "            if z > 0:\n",
        "                p_value = scipy.stats.norm.sf(z)\n",
        "            else:\n",
        "                p_value = scipy.stats.norm.sf(z * (-1))\n",
        "\n",
        "            if tipo_hipotese == 'bilateral':\n",
        "                p_value *= 2\n",
        "                alpha *= 2\n",
        "\n",
        "            print(f'P Valor do Teste: {p_value}')\n",
        "            print(f'Valor Alpha: {alpha}')\n",
        "            print('_____________')\n",
        "\n",
        "            #########################\n",
        "            ## Intervalo de Confiânça\n",
        "            #########################\n",
        "\n",
        "            print('\\n>>> Intervalo de Confiânça\\n')\n",
        "\n",
        "            margem = statcc.proporcao.margem_de_erro(z0, proporcao_amostral, n)\n",
        "\n",
        "            #Calculando intervalo de confiança\n",
        "            intervalo = statcc.proporcao.intervalo_confianca(proporcao_amostral, margem)\n",
        "            print(f'Intervalo de Confiança: {intervalo}')\n",
        "            print('_____________')"
      ],
      "execution_count": 21,
      "outputs": []
    },
    {
      "cell_type": "code",
      "metadata": {
        "id": "c9S4mUkUQwxl",
        "outputId": "79124b04-a119-43a0-f95a-4792c616de5b",
        "colab": {
          "base_uri": "https://localhost:8080/",
          "height": 66
        }
      },
      "source": [
        "std = 4500\n",
        "n = 36\n",
        "confianca = 0.975\n",
        "z = scipy.stats.norm.ppf(confianca) # Retorna valor para apenas uma cauda\n",
        "print('Z:', z)\n",
        "\n",
        "margem_erro = statcc.margem_de_erro(z, std, n)\n",
        "print('margem_erro:', margem_erro)\n",
        "\n",
        "x = 31100\n",
        "print('Intervalo de Confiança', statcc.intervalo_confianca(x, margem_erro))\n"
      ],
      "execution_count": 22,
      "outputs": [
        {
          "output_type": "stream",
          "text": [
            "Z: 1.959963984540054\n",
            "margem_erro: 1469.9729884050405\n",
            "Intervalo de Confiança (29630.02701159496, 32569.97298840504)\n"
          ],
          "name": "stdout"
        }
      ]
    },
    {
      "cell_type": "markdown",
      "metadata": {
        "id": "NrmS4ggZAvNh"
      },
      "source": [
        "#### Exercício: Pacote de arroz\n",
        "\n",
        "Uma máquina de ensacar arroz integral enche-os segundo uma distribuição\n",
        "Normal, **com média m=750 gramas** e **desvio padrão s=30 gramas**.\n",
        "Periodicamente, é selecionada uma amostra de **50 sacos** e é verificada se a\n",
        "produção está sob controle, ou seja, se **m=750 ou não**.\n",
        "\n",
        "Considere que na **amostra de 50 pacotes** obteve-se uma **média amostral de\n",
        "785,8 gramas**. A máquina está descalibrada? Considere **95% de confiança** em\n",
        "sua decisão.\n",
        "\n",
        "**Resposta** Sim, está descalibrada"
      ]
    },
    {
      "cell_type": "code",
      "metadata": {
        "id": "VD_5OY3VA8yd",
        "outputId": "43090541-6626-4021-9a60-09d8ba3ce4d8",
        "colab": {
          "base_uri": "https://localhost:8080/",
          "height": 66
        }
      },
      "source": [
        "std = 30\n",
        "n = 50\n",
        "confianca = 0.975\n",
        "z = scipy.stats.norm.ppf(confianca) # Retorna valor para apenas uma cauda\n",
        "print('Z:', z)\n",
        "\n",
        "margem_erro = statcc.margem_de_erro(z, std, n)\n",
        "print('margem_erro:', margem_erro)\n",
        "\n",
        "x = 785.8\n",
        "print('Intervalo de Confiança', statcc.intervalo_confianca(x, margem_erro))"
      ],
      "execution_count": 10,
      "outputs": [
        {
          "output_type": "stream",
          "text": [
            "Z: 1.959963984540054\n",
            "margem_erro: 8.315422946098066\n",
            "Intervalo de Confiança (777.484577053902, 794.115422946098)\n"
          ],
          "name": "stdout"
        }
      ]
    },
    {
      "cell_type": "markdown",
      "metadata": {
        "id": "EYDeZTCbUXTX"
      },
      "source": [
        "#### Ex. Compra de Veículos\n",
        "\n",
        "Foi realizada uma pesquisa para saber quanto dinheiro uma determinada região\n",
        "do Brasil estava disposta a pagar na compra de um veículo 0km. Na **amostra de\n",
        "500 entrevistados**, **200 eram mulheres** que diziam estar dispostas a desembolsar,\n",
        "em **média, R\\$ 48.600,00** e **300 eram homens** que diziam estar dispostos a\n",
        "desembolsar, em **média, R\\$ 53.933,33**. Para ambos os sexos, o **desvio padrão do\n",
        "valor do veículo é de R\\$ 500,00.**\n",
        "\n",
        "Obtenha um intervalo, com **95 % de confiança**, para o valor em dinheiro que\n",
        "homens e mulheres estariam dispostos a gastar na compra de um veículo 0km.\n",
        "\n",
        "Pode-se afirmar que há diferença nos valores que homens e mulheres estão\n",
        "dispostos a pagar?\n",
        "\n",
        "**Resposta:** Há evidência de que o valor que os homens estão dispostos a pagar em um veículo é superior ao das\n",
        "mulheres, uma vez que nos intervalos com confiança com 0,95 não apresentaram sobreposição de valores."
      ]
    },
    {
      "cell_type": "code",
      "metadata": {
        "id": "pAes96s_CF4F",
        "outputId": "0debcae4-8cf8-4bb2-fce4-5f0ceb4ae9e2",
        "colab": {
          "base_uri": "https://localhost:8080/",
          "height": 196
        }
      },
      "source": [
        "print('>>> Mulheres\\n')\n",
        "std = 500\n",
        "n = 200\n",
        "confianca = 0.975\n",
        "z = scipy.stats.norm.ppf(confianca) # Retorna valor para apenas uma cauda\n",
        "print('Z:', z)\n",
        "\n",
        "margem_erro = statcc.margem_de_erro(z, std, n)\n",
        "print('margem_erro:', margem_erro)\n",
        "\n",
        "x = 48600\n",
        "print('Intervalo de Confiança para mulheres', statcc.intervalo_confianca(x, margem_erro))\n",
        "\n",
        "#Homens\n",
        "#######\n",
        "print('\\n>>> Homens\\n')\n",
        "n = 300\n",
        "confianca = 0.975\n",
        "z = scipy.stats.norm.ppf(confianca) # Retorna valor para apenas uma cauda\n",
        "print('Z:', z)\n",
        "\n",
        "margem_erro = statcc.margem_de_erro(z, std, n)\n",
        "print('margem_erro:', margem_erro)\n",
        "\n",
        "x = 53933.33\n",
        "print('Intervalo de Confiança para homens', statcc.intervalo_confianca(x, margem_erro))"
      ],
      "execution_count": 11,
      "outputs": [
        {
          "output_type": "stream",
          "text": [
            ">>> Mulheres\n",
            "\n",
            "Z: 1.959963984540054\n",
            "margem_erro: 69.29519121748389\n",
            "Intervalo de Confiança para mulheres (48530.70480878252, 48669.29519121748)\n",
            "\n",
            ">>> Homens\n",
            "\n",
            "Z: 1.959963984540054\n",
            "margem_erro: 56.57928670380858\n",
            "Intervalo de Confiança para homens (53876.75071329619, 53989.90928670381)\n"
          ],
          "name": "stdout"
        }
      ]
    },
    {
      "cell_type": "code",
      "metadata": {
        "id": "8RlajPUNVRaP"
      },
      "source": [
        "t.interval(0.95,16-1, loc = 650, scale = 55/16**0.5)\n",
        "# Resultado = (620.6925687485593, 679.3074312514407)\n",
        "\n",
        "# Hoje eu fui pesquisar sobre a função interval\n",
        "# E dá para construir os intervalos usando ela direto\n",
        "# Por exemplo no exercício da compra de veículos\n",
        "# A média das mulheres é 48600\n",
        "# Desvio padrão é 500\n",
        "# E número da amostra é 200\n",
        "# Intervalo de confiança é 95%\n",
        "\n",
        "norm.interval(0.95, loc=48600, scale = 500/200**0.5)\n",
        "print(48530.70480878252, 48669.29519121748)\n",
        "\n",
        "# Dá o mesmo resultado\n",
        "# Na função T também tem esse método, acredito que funcione da mesma forma\n",
        "\n",
        "# Essa é do exercício do apartamento\n",
        "t.interval(0.95,16-1, loc = 650, scale = 55/16**0.5)\n",
        "Resultado = (620.6925687485593, 679.3074312514407)"
      ],
      "execution_count": null,
      "outputs": []
    },
    {
      "cell_type": "markdown",
      "metadata": {
        "id": "GV4IK1yralEa"
      },
      "source": [
        "#### Ex. Aluguel de apartamento \n",
        "\n",
        "Foi realizado uma reportagem sobre o custo de morar fora do campus universitário, em uma pequena cidade do interior de São Paulo.\n",
        "**16 apartamentos** próximos ao campus foram entrevistados e verificou-se que o **gasto médio invidual é de R\\$650/mês** com **desvio padrão amostral de R\\$55.**\n",
        "\n",
        "Calcule o intervalo, com **95% de confiança**, para a estimativa do custo médio\n",
        "populacional do aluguel de apartamentos.\n",
        "\n",
        "Desvio padrão populacional não é conhecido, logo usamos o amaostral e a Dist. T  \n",
        "\n",
        "**Resposta:** Com 95% de confiança, o custo médio\n",
        "do aluguel para a população de\n",
        "apartamentos próximos ao campus é de\n",
        "R\\$ 620,70 a R\\$ 679,30 reais."
      ]
    },
    {
      "cell_type": "code",
      "metadata": {
        "id": "8nNjpnlWatrH",
        "outputId": "6fddafdd-93a3-40c7-c0c2-75d5a752097a",
        "colab": {
          "base_uri": "https://localhost:8080/",
          "height": 66
        }
      },
      "source": [
        "x = 650\n",
        "std_amostral = 55\n",
        "n = 16\n",
        "confianca = 0.95\n",
        "\n",
        "#Calculando o valor de Alpha\n",
        "alpha = 1 - confianca\n",
        "alpha2 = alpha / 2\n",
        "\n",
        "#Grau de liberdade representado por n-1\n",
        "graus_de_liberdade = n - 1\n",
        "\n",
        "#Calculando o valor de T\n",
        "t = scipy.stats.t.ppf(alpha2 + confianca, graus_de_liberdade)\n",
        "\n",
        "print('T:', t)\n",
        "margem_erro = statcc.margem_de_erro_t(t, std_amostral, n)\n",
        "print('margem_erro:', margem_erro)\n",
        "\n",
        "print('Intervalo de Confiança', x - margem_erro, x + margem_erro )"
      ],
      "execution_count": 12,
      "outputs": [
        {
          "output_type": "stream",
          "text": [
            "T: 2.131449545559323\n",
            "margem_erro: 29.30743125144069\n",
            "Intervalo de Confiança 620.6925687485593 679.3074312514407\n"
          ],
          "name": "stdout"
        }
      ]
    },
    {
      "cell_type": "markdown",
      "metadata": {
        "id": "hUzY-Z7jgkgj"
      },
      "source": [
        "#### Ex. Salário de diretores de empresa de grande porte\n",
        "\n",
        "Uma empresa de consultoria em RH abriu uma nova posição para o cargo de diretor em uma grande multinacional e precisa estipular o valor a ser remunerado para esta posição. Realizou uma pesquisa com **30 empresas** e identificou que, em **média**, os diretores com funções similares ganham **R\\$52.300,00** com **desvio padrão amostral de R\\$4.000,00.**\n",
        "Com **95% de confiança**, qual o salário dos diretores desta área de atuação?"
      ]
    },
    {
      "cell_type": "code",
      "metadata": {
        "id": "_2ZRNa8Qgj9Q",
        "outputId": "c7b4f391-5770-4a1e-fec4-430743142a91",
        "colab": {
          "base_uri": "https://localhost:8080/",
          "height": 66
        }
      },
      "source": [
        "x = 52300\n",
        "std_amostral = 4000\n",
        "n = 30\n",
        "confianca = 0.95\n",
        "\n",
        "#Calculando o valor de Alpha\n",
        "alpha = 1 - confianca\n",
        "alpha2 = alpha / 2\n",
        "\n",
        "#Grau de liberdade representado por n-1\n",
        "graus_de_liberdade = n - 1\n",
        "\n",
        "#Calculando o valor de T\n",
        "t = scipy.stats.t.ppf(alpha2 + confianca, graus_de_liberdade)\n",
        "\n",
        "print('T:', t)\n",
        "margem_erro = statcc.margem_de_erro_t(t, std_amostral, n)\n",
        "print('margem_erro:', margem_erro)\n",
        "\n",
        "print('Intervalo de Confiança', x - margem_erro, x + margem_erro )"
      ],
      "execution_count": 13,
      "outputs": [
        {
          "output_type": "stream",
          "text": [
            "T: 2.045229642132703\n",
            "margem_erro: 1493.6245470323997\n",
            "Intervalo de Confiança 50806.3754529676 53793.6245470324\n"
          ],
          "name": "stdout"
        }
      ]
    },
    {
      "cell_type": "markdown",
      "metadata": {
        "id": "Lilm5vORVTDy"
      },
      "source": [
        "## 2. Teste de Hipóteses\n",
        "\n",
        "### Motivação\n",
        "\n",
        "Os conceitos de **Teste de Hipóteses** fazem parte de nosso cotidiano na **tomada de decisão.**\n",
        "\n",
        "Certamente você já testou muitas hipóteses em sua vida, mas muitas vezes sem perceber.\n",
        "\n",
        "O objetivo é apresentar os conceitos de Teste de Hipóteses, tomando a decisão com um determinado grau de confiança. Desta forma, vamos aprender:\n",
        "\n",
        "  ✓ Como formalizar as hipóteses de interesse.\n",
        "\n",
        "  ✓ Como utilizar o modelo probabilístico teórico.\n",
        "\n",
        "  ✓ Como tomar uma decisão.\n",
        "\n",
        "Exemplo:\n",
        "\n",
        "Uma determinada rede de varejo reclamou que seus consumidores estavam\n",
        "desconfiados que os sacos de açúcar estavam pesando menos do que dizia a\n",
        "embalagem.\n",
        "\n",
        "TESTE DE HIPÓTESE:\n",
        "\n",
        "- Saco de açúcar pesa 1 kg,\n",
        "- Saco de açúcar pesa menos que 1 kg.\n",
        "\n",
        "### Definição das **hipóteses nula e alternativa**\n",
        "\n",
        "O teste de hipóteses pode ser usado para determinar se afirmação sobre o valor de um **parâmetro populacional** deveria ou não ser rejeitado:\n",
        "\n",
        "- A hipótese nula, denotada por H0, é uma tentativa sobre o parâmetro da população;\n",
        "- A hipótese alternativa, denotada por Ha ou H1, é o oposto da afirmação da hipótese H0.\n",
        "\n",
        "IMPORTANTE: **hipótese alternativa** é aquele teste em que gostaríamos de realizar afirmação, ou\n",
        "seja, por convenção, desejamos rejeitar H0.\n",
        "\n",
        "Exemplo: Case People Analytics\n",
        "\n",
        "- H0 : O percentual de turn over manteve-se 6 meses após o término do treinamento,\n",
        "- H1 : O percentual de turn over diminuiu 6 meses após o término do treinamento.\n",
        "\n",
        "### Como formalizamos as hipóteses matematicamente?\n",
        "\n",
        "A **igualdade** aparece sempre na **hipótese nula.**\n",
        "\n",
        "Em geral, os testes de hipóteses sobre os valores da média populacional m devem ser\n",
        "realizadas de uma das 3 formas, em que m0 é uma constante que servirá como regra de decisão.\n",
        "\n",
        "#### Teste Unilateral\n",
        "\n",
        "H1: Aumentou ou diminuiu \n"
      ]
    },
    {
      "cell_type": "code",
      "metadata": {
        "id": "jo31PCM7YgFR"
      },
      "source": [
        "\n",
        "\n",
        "def calculo_z(x_barra, u, std, n):\n",
        "  return (x_barra - u) / (std / (n**0.5))\n",
        "\n",
        "def calculo_t(x_barra, u, s, n):\n",
        "  return (x_barra - u) /( s / (n**0.5))\n",
        "\n",
        "def func_teste_de_hipoteses(n, u, x, std, confianca, tipo_hipotese, teste):\n",
        "  \"\"\"\n",
        "  tipo_hipotese => ['bilateral', '>', '<']\n",
        "  teste => 't ou 'z'\n",
        "  \"\"\"\n",
        "\n",
        "  if teste == 't':\n",
        "    s = std\n",
        "\n",
        "  # Defina H0 e H1\n",
        "  H0 = 'H0: u = ' + str(u)\n",
        "  if tipo_hipotese == 'bilateral':\n",
        "    H1 = 'H1: u != '+ str(u)\n",
        "  else:\n",
        "    H1 = f'H1: u {tipo_hipotese} '+ str(u)\n",
        "\n",
        "  print('Definindo Hipoteses:')\n",
        "  print(H0)\n",
        "  print(H1)\n",
        "\n",
        "  if tipo_hipotese == 'bilateral':\n",
        "    alpha = 1 - confianca\n",
        "    alpha = alpha / 2\n",
        "    confianca = 1 - alpha\n",
        "  else:\n",
        "    alpha = 1 - confianca\n",
        "  print(f'Confiança: {confianca}')\n",
        "  print(f'Alpha: {alpha}')\n",
        "\n",
        "\n",
        "  # Encontrando estatística do teste\n",
        "  if teste == 't':\n",
        "    t = calculo_t(x, u, s, n)\n",
        "    print(f'\\nValor de t: {t}')\n",
        "  else:\n",
        "    z = calculo_z(x, u, std, n)\n",
        "    print(f'\\nValor de Z: {z}')\n",
        "\n",
        "\n",
        "  print('_____________')\n",
        "\n",
        "  ##############################\n",
        "  ## Decisão pela região crítica\n",
        "  ##############################\n",
        "\n",
        "  print('\\n>>> Decisão pela região crítica\\n')\n",
        "\n",
        "  import scipy.stats as st\n",
        "\n",
        "  if teste == 't':\n",
        "    graus_de_liberdade = n -1\n",
        "    t0 = scipy.stats.t.ppf(confianca, graus_de_liberdade)\n",
        "    print('T0 com confiança de', confianca,'->', t0)\n",
        "  else:\n",
        "    # Inputa a probabilidade e ele mostra o Z\n",
        "    z0 = st.norm.ppf(confianca)\n",
        "    print('Z0 com confiança de', confianca,'->', z0)\n",
        "\n",
        "  print('_____________')\n",
        "\n",
        "  #######################\n",
        "  ## Decisão pelo p-valor\n",
        "  #######################\n",
        "\n",
        "  print('\\n>>> Decisão pelo p-valor\\n')\n",
        "\n",
        "  if teste == 't':\n",
        "    if t > 0:\n",
        "      p_value = scipy.stats.t.sf(t, graus_de_liberdade)\n",
        "    else:\n",
        "      p_value = scipy.stats.t.sf(t * (-1), graus_de_liberdade)\n",
        "  else:\n",
        "    if z > 0:\n",
        "      p_value = scipy.stats.norm.sf(z)\n",
        "    else:\n",
        "      p_value = scipy.stats.norm.sf(z * (-1))\n",
        "\n",
        "  if tipo_hipotese == 'bilateral':\n",
        "    p_value *= 2\n",
        "    alpha *= 2\n",
        "\n",
        "  print(f'P Valor do Teste: {p_value}')\n",
        "  print(f'Valor Alpha: {alpha}')\n",
        "  print('_____________')\n",
        "\n",
        "  #########################\n",
        "  ## Intervalo de Confiânça\n",
        "  #########################\n",
        "\n",
        "  print('\\n>>> Intervalo de Confiânça\\n')\n",
        "\n",
        "  if teste == 't':\n",
        "    margem = margem_de_erro_t(t0, s, n)\n",
        "  else:\n",
        "    margem = margem_de_erro(z0, std, n)\n",
        "\n",
        "  #Calculando intervalo de confiança\n",
        "  intervalo = intervalo_confianca(x, margem)\n",
        "  print(f'Intervalo de Confiança: {intervalo}')\n",
        "  print('_____________')"
      ],
      "execution_count": null,
      "outputs": []
    },
    {
      "cell_type": "markdown",
      "metadata": {
        "id": "mtSYSTQIXqIp"
      },
      "source": [
        "### Case: Atendimento de clientes na Emergência\n",
        "\n",
        "Um hospital conta com um time de **40 médicos** que devem conseguir atender um chamado de\n",
        "emergência na residência dos seus pacientes com um **tempo médio de 12 minutos**. O SAC do hospital tem\n",
        "recebido algumas reclamações de demora até a chegada da unidade móvel de atendimento, e o diretor\n",
        "do hospital gostaria de investigar se realmente ocorre o atraso. Em um dia foi contabilizado que um\n",
        "chamado demora em **média 13,25 minutos**, com **3,2 minutos de desvio padrão (populacional).**\n",
        "\n",
        "- H0: O serviço de emergência está atendendo a meta do tempo de atendimento.\n",
        "- H1: O serviço de emergência não está atendendo a meta do tempo de\n",
        "atendimento, e ações administrativas serão necessárias para atingir a meta\n",
        "desejada."
      ]
    },
    {
      "cell_type": "code",
      "metadata": {
        "id": "bo94A-RmYKHn",
        "outputId": "dac1257c-926a-4a10-b25b-ab02a047b6bf",
        "colab": {
          "base_uri": "https://localhost:8080/",
          "height": 440
        }
      },
      "source": [
        "n = 40\n",
        "u = 12\n",
        "x = 13.25\n",
        "std = 3.2\n",
        "confianca = 0.95\n",
        "tipo_hipotese = '>'\n",
        "teste = 'z'\n",
        "\n",
        "teste = statcc() # instanciando teste\n",
        "teste.cadastrar_hipotese(tipo_hipotese) # cadastrando tipo da hipotese\n",
        "teste.cadastrar_teste(teste) # cadastrando tipo do teste\n",
        "teste.teste_de_hipoteses(n, u, x, std, confianca) # Realizando o teste\n",
        "\n",
        "print(f'Resposta: Como 2,47 > 1,645, rejeitamos H0.')\n",
        "print('Resposta: Como p–valor = 0,0067 < a=0,05,rejeitamos H0')"
      ],
      "execution_count": 5,
      "outputs": [
        {
          "output_type": "stream",
          "text": [
            "Definindo Hipoteses:\n",
            "H0: u = 12\n",
            "H1: u > 12\n",
            "Confiança: 0.95\n",
            "Alpha: 0.050000000000000044\n",
            "\n",
            "Valor de Z: 2.4705294220065466\n",
            "_____________\n",
            "\n",
            ">>> Decisão pela região crítica\n",
            "\n",
            "Z0 com confiança de 0.95 -> 1.6448536269514722\n",
            "_____________\n",
            "\n",
            ">>> Decisão pelo p-valor\n",
            "\n",
            "P Valor do Teste: 0.006745661019400872\n",
            "Valor Alpha: 0.050000000000000044\n",
            "_____________\n",
            "\n",
            ">>> Intervalo de Confiânça\n",
            "\n",
            "Intervalo de Confiança: (12.417762579399108, 14.082237420600892)\n",
            "_____________\n",
            "Resposta: Como 2,47 > 1,645, rejeitamos H0.\n",
            "Resposta: Como p–valor = 0,0067 < a=0,05,rejeitamos H0\n"
          ],
          "name": "stdout"
        }
      ]
    },
    {
      "cell_type": "markdown",
      "metadata": {
        "id": "FBjEHCmibN35"
      },
      "source": [
        "### P-valor\n",
        "\n",
        "O p-valor é a probabilidade (área abaixo da curva do modelo probabilístico) proveniente dos dados (experimento), conhecido também como nível descritivo do teste.\n",
        "\n",
        "P valor compara sua média amostral com uma média populacional e std conhecidos, para validar se sua amostra corresponde a algo crítico.  "
      ]
    },
    {
      "cell_type": "code",
      "metadata": {
        "id": "i6-X94v6YKFU",
        "outputId": "a543364c-04bc-46a1-ea2e-fcb3d26abe36",
        "colab": {
          "base_uri": "https://localhost:8080/",
          "height": 33
        }
      },
      "source": [
        "# Retorna o probabilidade de ocorrencia do Z\n",
        "\n",
        "scipy.stats.norm.sf(z)\n"
      ],
      "execution_count": null,
      "outputs": [
        {
          "output_type": "execute_result",
          "data": {
            "text/plain": [
              "0.006745661019400872"
            ]
          },
          "metadata": {
            "tags": []
          },
          "execution_count": 52
        }
      ]
    },
    {
      "cell_type": "markdown",
      "metadata": {
        "id": "qY3psy5WfeaN"
      },
      "source": [
        "### Case: Fábrica de balas\n",
        "\n",
        "O processo de controle de qualidade de uma fábrica requer que o **peso o dos\n",
        "pacotes de bala seja igual 6 kg**, com **desvio padrão populacional de 0,2 kg**.\n",
        "Caso contrário, se um lote de amostras apresentar um valor diferente de 6 kg,\n",
        "a máquina de empacotar as balas deve ser recalibrada.\n",
        "\n",
        "De uma amostra de **30 sacos**, o peso **médio encontrado foi de 6,1 kg**. Ao nível\n",
        "de **97% de confiança**, ajude o diretor da fábrica a determinar se a máquina de\n",
        "empacotamento está corretamente configurada ou precisaria de ajustes."
      ]
    },
    {
      "cell_type": "code",
      "metadata": {
        "id": "uP3A1KAbf4ub",
        "outputId": "0ac3b80d-c14a-46ff-8f45-e5b387e58508",
        "colab": {
          "base_uri": "https://localhost:8080/",
          "height": 488
        }
      },
      "source": [
        "n = 30\n",
        "u = 6\n",
        "std = 0.2\n",
        "x = 6.1\n",
        "confianca = 0.97\n",
        "tipo_hipotese = 'bilateral'\n",
        "teste = 'z'\n",
        "\n",
        "teste = statcc() # instanciando teste\n",
        "teste.cadastrar_hipotese(tipo_hipotese) # cadastrando tipo da hipotese\n",
        "teste.cadastrar_teste(teste) # cadastrando tipo do teste\n",
        "teste.teste_de_hipoteses(n, u, x, std, confianca) # Realizando o teste\n",
        "\n",
        "print(f'Resposta: Como Como 2,74 > 2,17, rejeitamos H0.')\n",
        "\n",
        "print(f'Resposta: Como p–valor = 0,0062 < a = 0,03,rejeitamos H0')# Multiplicamos por \n",
        "\n",
        "print(\"\"\"\\nResposta: Como o valor hipotético para a média da população m0 = 6 não está neste intervalo, a conclusão do teste de\n",
        "hipótese é que a hipótese nula, H0 : m = 6, pode ser rejeitada com 97% de confiança.\"\"\")"
      ],
      "execution_count": 17,
      "outputs": [
        {
          "output_type": "stream",
          "text": [
            "Definindo Hipoteses:\n",
            "H0: u = 6\n",
            "H1: u != 6\n",
            "Confiança: 0.985\n",
            "Alpha: 0.015000000000000013\n",
            "\n",
            "Valor de Z: 2.738612787525821\n",
            "_____________\n",
            "\n",
            ">>> Decisão pela região crítica\n",
            "\n",
            "Z0 com confiança de 0.985 -> 2.17009037758456\n",
            "_____________\n",
            "\n",
            ">>> Decisão pelo p-valor\n",
            "\n",
            "P Valor do Teste: 0.006169899320544343\n",
            "Valor Alpha: 0.030000000000000027\n",
            "_____________\n",
            "\n",
            ">>> Intervalo de Confiânça\n",
            "\n",
            "Intervalo de Confiança: (6.020759503224802, 6.179240496775197)\n",
            "_____________\n",
            "Resposta: Como Como 2,74 > 2,17, rejeitamos H0.\n",
            "Resposta: Como p–valor = 0,0062 < a = 0,03,rejeitamos H0\n",
            "\n",
            "Resposta: Como o valor hipotético para a média da população m0 = 6 não está neste intervalo, a conclusão do teste de\n",
            "hipótese é que a hipótese nula, H0 : m = 6, pode ser rejeitada com 97% de confiança.\n"
          ],
          "name": "stdout"
        }
      ]
    },
    {
      "cell_type": "markdown",
      "metadata": {
        "id": "6iIR3h1ardL7"
      },
      "source": [
        "### Case: Departamento de Trânsito\n",
        "\n",
        "Em um determinado trecho de uma rodovia, o **limite de velocidade é de 65 km/h.** A fim de\n",
        "verificar se o limite de velocidade estava sendo respeitado, o departamento de trânsito\n",
        "mediu a velocidade de **64 veículos** que passavam pela rodovia. A **média amostral foi de 66,2\n",
        "km/h** com **variância amostral de 17,64**. Caso o limite de velocidade não esteja sendo\n",
        "respeitado neste trecho, será instalado um radar neste ponto da rodovia. Qual sugestão você\n",
        "daria, utilizando uma **confiança de 95%**?"
      ]
    },
    {
      "cell_type": "code",
      "metadata": {
        "id": "-1yTxG0OpemR",
        "outputId": "31bdcc7a-7040-4796-fbbd-3145448ac6f7",
        "colab": {
          "base_uri": "https://localhost:8080/",
          "height": 375
        }
      },
      "source": [
        "n = 64\n",
        "u = 65\n",
        "variancia = 17.64\n",
        "s = variancia ** 0.5\n",
        "x = 66.2\n",
        "\n",
        "tipo_hipotese = '>'\n",
        "teste = 't'\n",
        "\n",
        "#Nivel de significancia adotada no teste\n",
        "confianca = 0.95\n",
        "\n",
        "#####################\n",
        "\n",
        "# Defina H0 e H1\n",
        "H0 = 'H0: u = ' + str(u)\n",
        "if tipo_hipotese == 'bilateral':\n",
        "  H1 = 'H1: u != '+ str(u)\n",
        "else:\n",
        "  H1 = f'H1: u {tipo_hipotese} '+ str(u)\n",
        "\n",
        "print('Definindo Hipoteses:')\n",
        "print(H0)\n",
        "print(H1)\n",
        "\n",
        "if tipo_hipotese == 'bilateral':\n",
        "  alpha = 1 - confianca\n",
        "  alpha = alpha / 2\n",
        "  confianca = 1 - alpha\n",
        "else:\n",
        "  alpha = 1 - confianca\n",
        "\n",
        "\n",
        "# Encontrando estatística do teste\n",
        "if teste == 't':\n",
        "  t = calculo_t(x, u, s, n)\n",
        "  print(f'\\nValor de t: {t}')\n",
        "else:\n",
        "  z = calculo_z(x, u, std, n)\n",
        "  print('\\nValor de Z: {z}')\n",
        "\n",
        "\n",
        "print('_____________')\n",
        "\n",
        "##############################\n",
        "## Decisão pela região crítica\n",
        "##############################\n",
        "\n",
        "print('\\n>>> Decisão pela região crítica\\n')\n",
        "\n",
        "import scipy.stats as st\n",
        "\n",
        "if teste == 't':\n",
        "  graus_de_liberdade = n -1\n",
        "  t0 = scipy.stats.t.ppf(confianca, graus_de_liberdade)\n",
        "  print('T0 com confiança de', confianca,'->', t0)\n",
        "else:\n",
        "  # Inputa a probabilidade e ele mostra o Z\n",
        "  z0 = st.norm.ppf(confianca)\n",
        "  print('Z0 com confiança de', confianca,'->', z0)\n",
        "\n",
        "print('Resposta: Como 2,286 > 1,669, rejeitamos H0.')\n",
        "print('_____________')\n",
        "\n",
        "#######################\n",
        "## Decisão pelo p-valor\n",
        "#######################\n",
        "\n",
        "print('\\n>>> Decisão pelo p-valor\\n')\n",
        "\n",
        "if teste == 't':\n",
        "  p_value = scipy.stats.t.sf(t, graus_de_liberdade)\n",
        "else:\n",
        "  p_value = scipy.stats.norm.sf(z)\n",
        "\n",
        "print(f'P Valor do Teste: {p_value}')\n",
        "\n",
        "if tipo_hipotese == 'bilateral':\n",
        "  p_value *= 2\n",
        "  alpha *= 2\n",
        "\n",
        "print(f'Como p–valor = 0,0128 < a = 0,05, rejeitamos H0.')# Multiplicamos por \n",
        "print('_____________')\n",
        "\n",
        "#########################\n",
        "## Intervalo de Confiânça\n",
        "#########################\n",
        "\n",
        "print('\\n>>> Intervalo de Confiânça\\n')\n",
        "\n",
        "if teste == 't':\n",
        "  margem = margem_de_erro_t(t0, s, n)\n",
        "else:\n",
        "  margem = margem_de_erro(z, std, n)\n",
        "\n",
        "#Calculando intervalo de confiança\n",
        "intervalo = intervalo_confianca(x, margem)\n",
        "print(f'Intervalo de Confiança: {intervalo}')"
      ],
      "execution_count": null,
      "outputs": [
        {
          "output_type": "stream",
          "text": [
            "Definindo Hipoteses:\n",
            "H0: u = 65\n",
            "H1: u > 65\n",
            "\n",
            "Valor de t: 2.285714285714291\n",
            "_____________\n",
            "\n",
            ">>> Decisão pela região crítica\n",
            "\n",
            "T0 com confiança de 0.95 -> 1.6694022215079607\n",
            "Resposta: Como 2,286 > 1,669, rejeitamos H0.\n",
            "_____________\n",
            "\n",
            ">>> Decisão pelo p-valor\n",
            "\n",
            "P Valor do Teste: 0.012823010596425858\n",
            "Como p–valor = 0,0128 < a = 0,05, rejeitamos H0.\n",
            "_____________\n",
            "\n",
            ">>> Intervalo de Confiânça\n",
            "\n",
            "Intervalo de Confiança: (65.32356383370832, 67.07643616629169)\n"
          ],
          "name": "stdout"
        }
      ]
    },
    {
      "cell_type": "markdown",
      "metadata": {
        "id": "S-3JYAz1ywk-"
      },
      "source": [
        "Correção ex. maior do que 8 para "
      ]
    },
    {
      "cell_type": "code",
      "metadata": {
        "id": "O1VtboZFxHXj",
        "outputId": "1927f703-728e-4bfa-ea8b-8a857f7425e4",
        "colab": {
          "base_uri": "https://localhost:8080/",
          "height": 33
        }
      },
      "source": [
        "n = 50\n",
        "x = 8\n",
        "u = 9\n",
        "std = 17.65\n",
        "confianca = 0.95\n",
        "\n",
        "# Hipotese\n",
        "h_zero = 8\n",
        "h_zero > 8\n",
        "\n",
        "# Nivel de significancia\n",
        "confianca = 0.95\n",
        "\n",
        "# Estatistica Z\n",
        "z = (x - u) / std / (n**0.5)\n",
        "print('Z:', z)\n"
      ],
      "execution_count": null,
      "outputs": [
        {
          "output_type": "stream",
          "text": [
            "Z: -0.008012541429875893\n"
          ],
          "name": "stdout"
        }
      ]
    },
    {
      "cell_type": "markdown",
      "metadata": {
        "id": "DNTqbj8T_ghS"
      },
      "source": [
        "### Teste de Hipóteses para Proporção\n",
        "\n",
        "#### Como formalizamos as hipóteses de um teste para proporção?\n",
        "\n",
        "O teste de hipótese para uma proporção populacional é realizado de forma muito similar ao teste de hipótese para uma média populacional."
      ]
    },
    {
      "cell_type": "code",
      "metadata": {
        "id": "S0TUPJR__x9n"
      },
      "source": [
        "def func_hipotese_proporcao(p, p_barra, n):\n",
        "  \"\"\"\n",
        "  p é a proporção populacional\n",
        "  O p_barra é a proporção amostral\n",
        "  n é o tamanho da amostra\n",
        "  \"\"\"\n",
        "\n",
        "  superior = (p_barra - p)\n",
        "  inferior = (p*(1-p)) / n\n",
        "\n",
        "  return superior / (inferior ** 0.5)\n",
        "\n",
        "\n",
        "def func_margem_de_erro_prop(z, p_barra, n):\n",
        "  temp = (p_barra* (1- p_barra)) / n\n",
        "  me = z * (temp ** 0.5)\n",
        "  return me\n",
        "\n",
        "def func_intervalo_confianca_prop(p_barra, me):\n",
        "  return p_barra - me, p_barra + me\n",
        "\n",
        "def func_teste_de_hipoteses_prop(p, p_barra, n, confianca, tipo_hipotese):\n",
        "  \"\"\"\n",
        "  tipo_hipotese => ['bilateral', '>', '<']\n",
        "  \"\"\"\n",
        "\n",
        "  # Defina H0 e H1\n",
        "  H0 = 'H0: u = ' + str(p)\n",
        "  if tipo_hipotese == 'bilateral':\n",
        "    H1 = 'H1: u != '+ str(p)\n",
        "  else:\n",
        "    H1 = f'H1: u {tipo_hipotese} '+ str(p)\n",
        "\n",
        "  print('Definindo Hipoteses:')\n",
        "  print(H0)\n",
        "  print(H1)\n",
        "\n",
        "  if tipo_hipotese == 'bilateral':\n",
        "    alpha = 1 - confianca\n",
        "    alpha = alpha / 2\n",
        "    confianca = 1 - alpha\n",
        "  else:\n",
        "    alpha = 1 - confianca\n",
        "  print(f'Confiança: {confianca}')\n",
        "  print(f'Alpha: {alpha}')\n",
        "\n",
        "\n",
        "  # Encontrando estatística do teste\n",
        "  z = func_hipotese_proporcao(p, p_barra, n)\n",
        "  print(f'\\nValor de Z: {z}')\n",
        "  print('_____________')\n",
        "\n",
        "  ##############################\n",
        "  ## Decisão pela região crítica\n",
        "  ##############################\n",
        "\n",
        "  print('\\n>>> Decisão pela região crítica\\n')\n",
        "\n",
        "  import scipy.stats as st\n",
        "  # Inputa a probabilidade e ele mostra o Z\n",
        "  z0 = st.norm.ppf(confianca)\n",
        "  print('Z0 com confiança de', confianca,'->', z0)\n",
        "\n",
        "  print('_____________')\n",
        "\n",
        "  #######################\n",
        "  ## Decisão pelo p-valor\n",
        "  #######################\n",
        "\n",
        "  print('\\n>>> Decisão pelo p-valor\\n')\n",
        "\n",
        "  if z > 0:\n",
        "    p_value = scipy.stats.norm.sf(z)\n",
        "  else:\n",
        "    p_value = scipy.stats.norm.sf(z * (-1))\n",
        "\n",
        "  if tipo_hipotese == 'bilateral':\n",
        "    p_value *= 2\n",
        "    alpha *= 2\n",
        "\n",
        "  print(f'P Valor do Teste: {p_value}')\n",
        "  print(f'Valor Alpha: {alpha}')\n",
        "  print('_____________')\n",
        "\n",
        "  #########################\n",
        "  ## Intervalo de Confiânça\n",
        "  #########################\n",
        "\n",
        "  print('\\n>>> Intervalo de Confiânça\\n')\n",
        "\n",
        "  margem = func_margem_de_erro_prop(z0, p_barra, n)\n",
        "\n",
        "  #Calculando intervalo de confiança\n",
        "  intervalo = func_intervalo_confianca_prop(p_barra, margem)\n",
        "  print(f'Intervalo de Confiança: {intervalo}')\n",
        "  print('_____________')"
      ],
      "execution_count": null,
      "outputs": []
    },
    {
      "cell_type": "markdown",
      "metadata": {
        "id": "P-DTHQe3Ajg6"
      },
      "source": [
        "#### Exemplo: Indústria de cosméticos\n",
        "\n",
        "Uma determinada empresa de cosméticos gostaria de testar se a proporção de clientes\n",
        "satisfeitos após a compra de seus produtos **é superior a 90%.** Para isso, retirou-se uma **amostra de 1.000 clientes** e obteve-se uma **média amostral de 93%.** Considerando uma **confiança de 95%**, temos:\n",
        "\n",
        "TESTE DE HIPÓTESE:\n",
        "- H0: 90% dos clientes estão satisfeitos;\n",
        "- Ha: Mais que 90% dos clientes estão satisfeitos."
      ]
    },
    {
      "cell_type": "code",
      "metadata": {
        "id": "74Toq_AJAmbW",
        "outputId": "f2c9148e-ac25-466b-e4dd-be5067458fe0",
        "colab": {
          "base_uri": "https://localhost:8080/",
          "height": 440
        }
      },
      "source": [
        "p = 0.9\n",
        "p_barra = 0.93\n",
        "n = 1000\n",
        "confianca = 0.95\n",
        "\n",
        "statcc.proporcao.teste_de_hipoteses(p, p_barra, n, confianca, '>')\n",
        "\n",
        "print('Resposta: Como 3,16 > 1,645, rejeitamos H0.')\n",
        "print('Resposta: Como p–valor = 0,0008 < a =0,05, rejeitamos H0.')"
      ],
      "execution_count": 6,
      "outputs": [
        {
          "output_type": "stream",
          "text": [
            "Definindo Hipoteses:\n",
            "H0: u = 0.9\n",
            "H1: u > 0.9\n",
            "Confiança: 0.95\n",
            "Alpha: 0.050000000000000044\n",
            "\n",
            "Valor de Z: 3.1622776601683826\n",
            "_____________\n",
            "\n",
            ">>> Decisão pela região crítica\n",
            "\n",
            "Z0 com confiança de 0.95 -> 1.6448536269514722\n",
            "_____________\n",
            "\n",
            ">>> Decisão pelo p-valor\n",
            "\n",
            "P Valor do Teste: 0.0007827011290012658\n",
            "Valor Alpha: 0.050000000000000044\n",
            "_____________\n",
            "\n",
            ">>> Intervalo de Confiânça\n",
            "\n",
            "Intervalo de Confiança: (0.9167285690725676, 0.9432714309274325)\n",
            "_____________\n",
            "Resposta: Como 3,16 > 1,645, rejeitamos H0.\n",
            "Resposta: Como p–valor = 0,0008 < a =0,05, rejeitamos H0.\n"
          ],
          "name": "stdout"
        }
      ]
    },
    {
      "cell_type": "markdown",
      "metadata": {
        "id": "6Drs8Iw_HmJa"
      },
      "source": [
        "#### Exercício: Varejo\n",
        "\n",
        "Uma empresa de venda on line gostaria de testar a satisfação dos clientes com o\n",
        "serviço de troca oferecido. A empresa tem como meta garantir a satisfação de\n",
        "70% dos seus clientes como bom ou ótimo. Para testar a hipótese de interesse, a\n",
        "empresa fez uma pesquisa com 200 consumidores e obteve uma proporção\n",
        "amostral de 73%.\n",
        "Realize a tomada de decisão pela regra da região crítica, adotando o nível de\n",
        "significância de 0,1.\n"
      ]
    },
    {
      "cell_type": "code",
      "metadata": {
        "id": "u4mXmDk1HvSC",
        "outputId": "1aec1918-c26f-478a-a613-45e88be4eac6",
        "colab": {
          "base_uri": "https://localhost:8080/",
          "height": 407
        }
      },
      "source": [
        "p = 0.7\n",
        "p_barra = 0.73\n",
        "n = 200\n",
        "confianca = 0.9\n",
        "tipo_hipotese = 'bilateral'\n",
        "\n",
        "statcc.proporcao.teste_de_hipoteses(p, p_barra, n, confianca, tipo_hipotese)"
      ],
      "execution_count": 16,
      "outputs": [
        {
          "output_type": "stream",
          "text": [
            "Definindo Hipoteses:\n",
            "H0: u = 0.7\n",
            "H1: u != 0.7\n",
            "Confiança: 0.95\n",
            "Alpha: 0.04999999999999999\n",
            "\n",
            "Valor de Z: 0.9258200997725522\n",
            "_____________\n",
            "\n",
            ">>> Decisão pela região crítica\n",
            "\n",
            "Z0 com confiança de 0.95 -> 1.6448536269514722\n",
            "_____________\n",
            "\n",
            ">>> Decisão pelo p-valor\n",
            "\n",
            "P Valor do Teste: 0.35453947977350087\n",
            "Valor Alpha: 0.09999999999999998\n",
            "_____________\n",
            "\n",
            ">>> Intervalo de Confiânça\n",
            "\n",
            "Intervalo de Confiança: (0.6783636458102333, 0.7816363541897666)\n",
            "_____________\n"
          ],
          "name": "stdout"
        }
      ]
    },
    {
      "cell_type": "markdown",
      "metadata": {
        "id": "67nhKwdjd6XE"
      },
      "source": [
        "#### Exemplo: Recomendações de filmes\n",
        "\n",
        "Uma empresa de streaming gostaria de averiguar a proporção de clientes\n",
        "satisfeitos com as recomendações de filmes oferecidas. Para isso, retirou-se uma\n",
        "amostra de 1.200 clientes e obteve-se uma proporção amostral de 80%.\n",
        "Considere uma confiança de 95%.\n",
        "\n",
        "**Resposta:** Com 95% de confiança, o intervalo (77,74%; 82,26%) contém a proporção populacional de\n",
        "clientes satisfeitos com as sugestões de filmes recebidas."
      ]
    },
    {
      "cell_type": "code",
      "metadata": {
        "id": "CL6nZcA3d_QC",
        "outputId": "f2ab1ef2-62a4-4673-f903-79fe6acd7296",
        "colab": {
          "base_uri": "https://localhost:8080/",
          "height": 50
        }
      },
      "source": [
        "p = 0.7\n",
        "p_barra = 0.8\n",
        "n = 1200\n",
        "confianca = 0.95\n",
        "tipo_hipotese = 'bilateral'\n",
        "\n",
        "\n",
        "if tipo_hipotese == 'bilateral':\n",
        "  alpha = 1 - confianca  \n",
        "  confianca = 1 - (alpha / 2)\n",
        "\n",
        "z0 = st.norm.ppf(confianca)\n",
        "\n",
        "me = statcc.proporcao.margem_de_erro(z0, p_barra, n)\n",
        "print(f'Margem de Erro: {me}')\n",
        "print(f'Intervalo de Confiança: {statcc.proporcao.intervalo_confianca(p_barra, me)}')"
      ],
      "execution_count": 15,
      "outputs": [
        {
          "output_type": "stream",
          "text": [
            "Margem de Erro: 0.022631714681523432\n",
            "Intervalo de Confiança: (0.7773682853184766, 0.8226317146815235)\n"
          ],
          "name": "stdout"
        }
      ]
    },
    {
      "cell_type": "markdown",
      "metadata": {
        "id": "hbDtScUPJPUJ"
      },
      "source": [
        "# Lista de Exercícios\n",
        "\n",
        "Realizar os exercícios do tópico TESTE DE HIPÓTESE.\n",
        "\n",
        "Exercícios dos slides: 24 (Investimentos), 61 (Reclamações), 74 (People Analytics) e 79 (Laticínios).\n",
        "\n",
        "Data de Entrega: 21.10.2020 até às 23:59.\n"
      ]
    },
    {
      "cell_type": "markdown",
      "metadata": {
        "id": "SxQueHRBJjy-"
      },
      "source": [
        "## Exercício: Investimento\n",
        "\n",
        "Um gerente de investimentos deseja saber se os valores de investimento para PF do segmento Top Tier é em média R$50.000.\n",
        "\n",
        "Para se testar a hipótese de interesse, retirou-se uma amostra de 100 clientes e obteve-se uma **média de R\\$50.800** com um **desvio padrão de R\\$8.500.**\n",
        "\n",
        "Com **98% de confiança**, qual o valor investido para os clientes Top Tier?\n",
        "\n",
        "Em **média pode-se dizer que os clientes investem R$50.000?**\n",
        "\n",
        "**Resposta:** O valor médio populacional de investimento para PF do segmento Top Tier está entre 48.790 reais e 52810 reais com 98% de confiânça. E como o valor esperado de 50.000 está dentro deste intervalo, podemos afirmar que os clientes podem investir em média este valor. "
      ]
    },
    {
      "cell_type": "code",
      "metadata": {
        "id": "oXdlIAsZJTb-",
        "outputId": "9a0b3f3c-8ed8-4935-f4c5-f2f47f2934c9",
        "colab": {
          "base_uri": "https://localhost:8080/",
          "height": 66
        }
      },
      "source": [
        "m = 50000\n",
        "x = 50800\n",
        "std_amostral = 8500\n",
        "n = 100\n",
        "confianca = 0.98\n",
        "\n",
        "#Calculando o valor de Alpha\n",
        "alpha = 1 - confianca\n",
        "alpha2 = alpha / 2\n",
        "\n",
        "#Grau de liberdade representado por n-1\n",
        "graus_de_liberdade = n - 1\n",
        "\n",
        "#Calculando o valor de T\n",
        "t = scipy.stats.t.ppf(alpha2 + confianca, graus_de_liberdade)\n",
        "\n",
        "print('T:', t)\n",
        "margem_erro = statcc.margem_de_erro_t(t, std_amostral, n)\n",
        "print('margem_erro:', margem_erro)\n",
        "\n",
        "print('Intervalo de Confiança', x - margem_erro, x + margem_erro )"
      ],
      "execution_count": 14,
      "outputs": [
        {
          "output_type": "stream",
          "text": [
            "T: 2.3646058614359737\n",
            "margem_erro: 2009.9149822205777\n",
            "Intervalo de Confiança 48790.08501777942 52809.91498222058\n"
          ],
          "name": "stdout"
        }
      ]
    },
    {
      "cell_type": "markdown",
      "metadata": {
        "id": "ldW1-bVuJ-8q"
      },
      "source": [
        "## Exercício: Reclamações\n",
        "\n",
        "Uma empresa deseja saber se o **número médio mensal de reclamações é 8.500 ou inferior a 8.500.** Sabe-se que o **desvio padrão populacional é de 600 reclamações**.\n",
        "\n",
        "Considere uma **amostra de 350 clientes**.\n",
        "\n",
        "Na **amostra**, obteve-se um **número médio** mensal de reclamações de **8.400**.\n",
        "\n",
        "Com confiança de 95%, há evidências de que o número de reclamações é inferior a 8.400?\n",
        "\n",
        "(a) Construa as hipóteses do teste.\n",
        "- H0: u = 8500\n",
        "- H1: u < 8500\n",
        "\n",
        "(b) Identifique o nível de significância do teste.\n",
        "- 0.05\n",
        "\n",
        "(c) Calcule o valor da estatística do teste.\n",
        "- Valor de Z: 3.118047822311618\n",
        "\n",
        "(d) Realize a tomada de decisão do teste pela regra do p-valor.\n",
        "\n",
        "- Como -3.1180 < -1.644, rejeitamos H0.\n",
        "\n",
        "(e) Realize a tomada de decisão pela regra da região crítica.\n",
        "\n",
        "- Como p–valor = 0.0009 < a = 0.05, rejeitamos H0.\n",
        "\n",
        "(f) Realize a tomada de decisão pelo intervalo de confiança.\n",
        "\n",
        "- Intervalo de Confiança: (8347.247325227616, 8452.752674772384)\n",
        "\n",
        "Como o valor hipotético para a média da população m0 = 8500 não está neste intervalo, a conclusão do teste de hipótese é que a hipótese nula, H0: m = 8500, pode ser rejeitada com 95% de confiança.\n",
        "\n",
        "(g) Com confiança de 95%, há evidências de que o número de reclamações é inferior a 8.400?\n",
        "\n",
        "Conforme indicado pelos testes anteriores, sim há evidências de que o número de reclamações é inferior a 8.400."
      ]
    },
    {
      "cell_type": "code",
      "metadata": {
        "id": "2nqCY5STKSpl",
        "outputId": "08ca1f95-148a-4021-ce5f-62b00ed4f634",
        "colab": {
          "base_uri": "https://localhost:8080/",
          "height": 423
        }
      },
      "source": [
        "n = 350\n",
        "u = 8500\n",
        "std = 600\n",
        "x = 8400\n",
        "confianca = 0.95\n",
        "tipo_hipotese = '<'\n",
        "teste = 'z'\n",
        "func_teste_de_hipoteses(n, u, x, std, confianca, tipo_hipotese, teste)\n",
        "\n",
        "print('Valor p-value', 1 - 0.9990897336953374)"
      ],
      "execution_count": null,
      "outputs": [
        {
          "output_type": "stream",
          "text": [
            "Definindo Hipoteses:\n",
            "H0: u = 8500\n",
            "H1: u < 8500\n",
            "Confiança: 0.95\n",
            "Alpha: 0.050000000000000044\n",
            "\n",
            "Valor de Z: -3.118047822311618\n",
            "_____________\n",
            "\n",
            ">>> Decisão pela região crítica\n",
            "\n",
            "Z0 com confiança de 0.95 -> 1.6448536269514722\n",
            "_____________\n",
            "\n",
            ">>> Decisão pelo p-valor\n",
            "\n",
            "P Valor do Teste: 0.9990897336953374\n",
            "Valor Alpha: 0.050000000000000044\n",
            "_____________\n",
            "\n",
            ">>> Intervalo de Confiânça\n",
            "\n",
            "Intervalo de Confiança: (8347.247325227616, 8452.752674772384)\n",
            "_____________\n",
            "Valor p-value 0.0009102663046626214\n"
          ],
          "name": "stdout"
        }
      ]
    },
    {
      "cell_type": "markdown",
      "metadata": {
        "id": "EfyFJnM2KUk5"
      },
      "source": [
        "## Exercício: People Analytics\n",
        "\n",
        "Um gerente de RH que deseja testar se a proporção de funcionários insatisfeitos na empresa é de 12% ou inferior a 12%.\n",
        "\n",
        "Para se testar a hipótese de interesse, entrevistou-se 50 funcionários e obteve-se uma proporção amostral de 9%. Considerar 99% de confiança.\n",
        "\n",
        "(a) Construa as hipóteses do teste.\n",
        "\n",
        "- H0: u = 0.12\n",
        "- H1: u < 0.12\n",
        "\n",
        "(b) Calcule o valor da estatística do teste.\n",
        "\n",
        "- Valor de Z: -0.6527912098338668\n",
        "\n",
        "(c) Realize a tomada de decisão do teste pela regra do p-valor.\n",
        "\n",
        "- Como 0.25695 > 0.01, rejeitamos H1.\n",
        "\n",
        "(d) Realize a tomada de decisão pela regra da região crítica.\n",
        "\n",
        "- Como -0.65279 > 2.32634, rejeitamos H1."
      ]
    },
    {
      "cell_type": "code",
      "metadata": {
        "id": "EE3r8637KvCn",
        "outputId": "b5355f07-7432-43ae-9b71-8200fb523a0c",
        "colab": {
          "base_uri": "https://localhost:8080/",
          "height": 326
        }
      },
      "source": [
        "n = 50\n",
        "p = 0.12\n",
        "p_barra = 0.09\n",
        "confianca = 0.99\n",
        "tipo_hipotese = '<'\n",
        "\n",
        "func_teste_de_hipoteses_prop(p, p_barra, n, confianca, tipo_hipotese)"
      ],
      "execution_count": null,
      "outputs": [
        {
          "output_type": "stream",
          "text": [
            "Definindo Hipoteses:\n",
            "H0: u = 0.12\n",
            "H1: u < 0.12\n",
            "Confiança: 0.99\n",
            "Alpha: 0.010000000000000009\n",
            "\n",
            "Valor de Z: -0.6527912098338668\n",
            "_____________\n",
            "\n",
            ">>> Decisão pela região crítica\n",
            "\n",
            "Z0 com confiança de 0.99 -> 2.3263478740408408\n",
            "_____________\n",
            "\n",
            ">>> Decisão pelo p-valor\n",
            "\n",
            "P Valor do Teste: 0.2569454456288568\n",
            "Valor Alpha: 0.010000000000000009\n",
            "_____________\n"
          ],
          "name": "stdout"
        }
      ]
    },
    {
      "cell_type": "markdown",
      "metadata": {
        "id": "S037aVcP5nUJ"
      },
      "source": [
        "## Exercício: Indústria de laticínios\n",
        "\n",
        "Uma indústria de alimentos gostaria de fazer o lançamento de um novo sabor\n",
        "de iogurte e gostaria de testar a preferência entre dois sabores. Para isso, a\n",
        "empresa contou com o apoio de **2.400 voluntários** e chegou-se ao seguinte\n",
        "resultado: **51,8% dos voluntários preferem o sabor A**, enquanto **48,2% preferem o sabor B.** Considere **95% de confiança.**\n",
        "\n",
        "Baseado nos valores obtidos, podemos considerar que realmente existe\n",
        "uma preferência pelo produto A em detrimento do produto B?\n",
        "\n",
        "**Resposta:** \n",
        "Não há evidências de que há uma preferência pelo produto A em detrimento do produto B, isso porque há sobreposições nos intervalos com confiança com 0,95."
      ]
    },
    {
      "cell_type": "code",
      "metadata": {
        "id": "1wxK1UiJMdBE",
        "outputId": "62d358f0-bb5d-4f74-f445-3c54ee235860",
        "colab": {
          "base_uri": "https://localhost:8080/",
          "height": 115
        }
      },
      "source": [
        "print('>>> Voluntários preferem o sabor A')\n",
        "\n",
        "n = 2400\n",
        "p_barra = 0.518\n",
        "confianca = 0.95\n",
        "tipo_hipotese = 'bilateral'\n",
        "\n",
        "if tipo_hipotese == 'bilateral':\n",
        "  alpha = 1 - confianca  \n",
        "  confianca = 1 - (alpha / 2)\n",
        "\n",
        "z0 = st.norm.ppf(confianca)\n",
        "\n",
        "me = func_margem_de_erro_prop(z0, p_barra, n)\n",
        "print(f'Margem de Erro: {me}')\n",
        "print(f'Intervalo de Confiança: {func_intervalo_confianca_prop(p_barra, me)}')\n",
        "\n",
        "################################################################################\n",
        "print('>>> Voluntários preferem o sabor B')\n",
        "\n",
        "n = 2400\n",
        "p_barra = 0.482\n",
        "confianca = 0.95\n",
        "tipo_hipotese = 'bilateral'\n",
        "\n",
        "if tipo_hipotese == 'bilateral':\n",
        "  alpha = 1 - confianca  \n",
        "  confianca = 1 - (alpha / 2)\n",
        "\n",
        "z0 = st.norm.ppf(confianca)\n",
        "\n",
        "me = func_margem_de_erro_prop(z0, p_barra, n)\n",
        "print(f'Margem de Erro: {me}')\n",
        "print(f'Intervalo de Confiança: {func_intervalo_confianca_prop(p_barra, me)}')"
      ],
      "execution_count": null,
      "outputs": [
        {
          "output_type": "stream",
          "text": [
            ">>> Voluntários preferem o sabor A\n",
            "Margem de Erro: 0.019990831987393064\n",
            "Intervalo de Confiança: (0.498009168012607, 0.5379908319873931)\n",
            ">>> Voluntários preferem o sabor B\n",
            "Margem de Erro: 0.019990831987393064\n",
            "Intervalo de Confiança: (0.46200916801260694, 0.501990831987393)\n"
          ],
          "name": "stdout"
        }
      ]
    },
    {
      "cell_type": "markdown",
      "metadata": {
        "id": "rUFTZdnOL8UV"
      },
      "source": [
        "## Tarefa Amostragem\n",
        "\n",
        "3 finais do material 79, 80 e 81 para o dia 28.\n",
        "Verificar novo material para o exercpicio 81."
      ]
    }
  ]
}