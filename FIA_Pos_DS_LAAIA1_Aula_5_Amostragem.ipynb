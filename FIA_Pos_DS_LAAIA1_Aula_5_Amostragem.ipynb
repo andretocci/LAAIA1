{
  "nbformat": 4,
  "nbformat_minor": 0,
  "metadata": {
    "colab": {
      "name": "FIA_Pos_DS_LAAIA1 - Aula 5: Amostragem.ipynb",
      "provenance": [],
      "toc_visible": true,
      "authorship_tag": "ABX9TyPuLHN5bHaF2w8l7aHPDqx9",
      "include_colab_link": true
    },
    "kernelspec": {
      "name": "python3",
      "display_name": "Python 3"
    }
  },
  "cells": [
    {
      "cell_type": "markdown",
      "metadata": {
        "id": "view-in-github",
        "colab_type": "text"
      },
      "source": [
        "<a href=\"https://colab.research.google.com/github/andretocci/LAAIA1/blob/main/FIA_Pos_DS_LAAIA1_Aula_5_Amostragem.ipynb\" target=\"_parent\"><img src=\"https://colab.research.google.com/assets/colab-badge.svg\" alt=\"Open In Colab\"/></a>"
      ]
    },
    {
      "cell_type": "markdown",
      "metadata": {
        "id": "qooiO2bTa-XG"
      },
      "source": [
        "# Aula 5: Amostragem\n",
        "\n",
        "[Notion: Link para anotações - Amostragem](https://www.notion.so/Amostragem-dd442bfaaa554aa08aa35a517eb6883a)\n",
        "\n",
        "[Internal Drive - Amostragem](https://drive.google.com/drive/folders/1AEYPBNxA4RroiVwMj8x86FywltDhNvEf)\n",
        "\n",
        "\n",
        "## Links e Referências\n",
        "\n",
        "- [Using Python to Figure out Sample Sizes for your Study](http://www.marknagelberg.com/using-python-to-figure-out-sample-sizes-for-your-study/)\n",
        "- [Markdown Guide](https://colab.research.google.com/notebooks/markdown_guide.ipynb#scrollTo=eYaIiIaJOPqi)\n"
      ]
    },
    {
      "cell_type": "markdown",
      "metadata": {
        "id": "3o9kH61m3Mp5"
      },
      "source": [
        "\n",
        "## 1. Intro\n",
        "\n",
        "A **amostragem é um procedimento** realizado para **extrair uma amostra de uma\n",
        "população**, com o **objetivo de inferir sobre os parâmetros populacionais.**\n",
        "\n",
        "Além de um bom planejamento do estudo e definição do esquema amostral, é crucial\n",
        "determinar o **tamanho ótimo amostral** para uma correta generalização das medidas\n",
        "investigadas **dentro dos limites aceitáveis de incerteza.**\n",
        "\n",
        "### Procedimento de obtenção dos dados\n",
        "\n",
        "1. Censo: coleta de dados de todos os elementos da população de interesse.\n",
        "  - Alto custo operacional.\n",
        "  - É utilizado apenas quando os dados são facilmente obtidos ou ocorre a coleta de\n",
        "dados para populações pequenas.\n",
        "\n",
        "2. Amostragem: seleção de parte dos elementos da população de interesse.\n",
        "  - Frequentemente utilizada para populações muito grandes ou infinitas.\n",
        "  - Os dados são obtidos com um custo mais baixo e com maior velocidade.\n",
        "\n",
        "### Conceitos: População e Amostra\n",
        "\n",
        "- **População**: todas as observações do universo de\n",
        "referência.\n",
        "  - O tamanho da população será denotado por **N**.\n",
        "- **Amostra**: parte de uma população de referência.\n",
        "  - O tamanho da amostra será denotado por **n**.\n",
        "\n",
        "### População: Infinita e Finita\n",
        "\n",
        "- **População Finita**: pode ser quantificada\n",
        "numericamente:\n",
        "  - Quantidade de alunos de uma escola.\n",
        "  - Quantidade de clientes de um banco.\n",
        "\n",
        "- **População Infinita**: são populações muito grandes ou de\n",
        "um processo contínuo em que os elementos da população\n",
        "são gerados indefinidamente:\n",
        "  - Quantidade de peixes em um lago.\n",
        "  - Quantidade habitantes do planeta.\n",
        "\n",
        "### Por que preciso de uma amostra?\n",
        "\n",
        "Em muitos problemas do mundo real **deseja-se estudar alguma variável de uma população**, mas por\n",
        "algum motivo **não é possível ter aceso a toda a população**. Neste caso, **pode-se analisar as informações da amostra e concluir para a população.**\n",
        "\n",
        "O **estudo de uma amostra** possibilita a obtenção de informações a respeito de\n",
        "**parâmetros populacionais** por meio da observação de apenas uma parte desta\n",
        "população.\n",
        "\n",
        "Ex.1 Teste de durabilidade da lâmpada: Quantas lâmpadas eu preciso testar para determinar o tempo até ela queimar?\n",
        "\n",
        "Ex.2 Teste de lançamento de remédio: De quantos indivíduos eu preciso para\n",
        "concluir que o tratamento é eficaz?\n",
        "\n",
        "\n",
        "\n"
      ]
    },
    {
      "cell_type": "markdown",
      "metadata": {
        "id": "9UUd4i_f3N1N"
      },
      "source": [
        "## 2. Esquemas Amostrais\n",
        "\n",
        "### Conceito: Amostra Aleatória Simples\n",
        "\n",
        "A amostragem aleatória simples é o esquema amostral mais utilizado e mais conhecido.\n",
        "\n",
        "Uma **amostra aleatória simples (AAS)** é uma *amostra de tamanho n* elementos, extraída de uma *população de N* elementos, em que os elementos são selecionados **ao acaso**.\n",
        "- Este esquema amostral **é fácil de ser aplicado quando temos acesso a toda a população**, por exemplo, tabulados em um banco de dados.\n",
        "\n",
        "Em uma AAS, **todos os indivíduos possuem a mesma chance de serem\n",
        "selecionados**. A seleção ocorre ao acaso (aleatoriamente).\n",
        "\n",
        "#### Aplicação \n",
        "\n",
        "##### Pesquisa de satisfação:\n",
        "\n",
        "    Um hospital de referência gostaria de fazer uma pesquisa sobre satisfação de atendimento\n",
        "    com os pacientes que realizaram consulta no último mês. Esta pesquisa tem por objetivo\n",
        "    atribuir uma nota pelo atendimento de 0-10.\n",
        "    Para isso, selecionou-se uma amostra de 100 pacientes aleatoriamente de um total de 5.000\n",
        "    que passaram por atendimento no último mês.\n",
        "    Todos os atendimentos são cadastrados no sistema e no sorteio via software, cada paciente\n",
        "    possui a mesma probabilidade de ser sorteado para realização da pesquisa.\n",
        "\n",
        "##### Estudo de perfil de base de dados:\n",
        "\n",
        "    O diretor de uma empresa de telecomunicações gostaria de receber insights em relação\n",
        "    ao faturamento das linhas telefônicas de seus clientes Pessoas Físicas. A carteira possui\n",
        "    aproximadamente 70 milhões de linhas telefônicas. É necessário realizar o estudo na\n",
        "    base populacional?\n",
        "    Seria possível realizar um estudo com uma amostra e inferir para base total?\n",
        "    Para isso, selecionou-se uma amostra de 5.000 linhas telefônicas e realizou-se um estudo\n",
        "    sobre esta base de dados amostral. Na AAS, cada linha telefônica possui a mesma\n",
        "    probabilidade de ser sorteada.\n",
        "\n",
        "\n",
        "### Conceito: Amostra Estratificada\n",
        "\n",
        "A amostragem aleatória estratificada é um esquema amostral muito utilizado na prática.\n",
        "\n",
        "Uma **amostra estratificada (AE)** é um esquema amostral em que é realizado uma AAS em cada\n",
        "grupo (ou estrato) de uma determinada população.\n",
        "\n",
        "- A estratificação é útil para melhoria na **precisão das estimativas**, produzindo estimativas\n",
        "para população geral e por estrato.\n",
        "\n",
        "Em uma AE, todos os indivíduos são separados por\n",
        "estrato, e dentro de cada estrato eles possuem a\n",
        "mesma chance de serem selecionados. A seleção dentro do estrato ocorre ao acaso (aleatoriamente).\n",
        "\n",
        "#### Aplicação \n",
        "\n",
        "##### Renda de clientes de cartão de crédito\n",
        "\n",
        "    Um emissor de cartão de crédito deseja estimar a renda dos clientes Pessoas Físicas. Os\n",
        "    clientes possuem tipos de cartão diferentes (básico PF, especial, black). Sabendo-se da\n",
        "    heterogeneidade da carteira em relação ao gasto com o cartão, selecionou-se\n",
        "    aleatoriamente por estrato:\n",
        "    - 1.000 clientes do cartão básico PF, de um total de 2 milhões de clientes.\n",
        "    - 1.500 clientes do cartão especial, de um total de 500 mil cliente.\n",
        "    - 1.200 clientes do cartão black, de um total de 50 mil clientes\n",
        "    Dado o estrato, todos os clientes possuem a mesma probabilidade de serem sorteados.\n",
        "\n",
        "##### Pesquisa de conectividade na internet\n",
        "\n",
        "    Um grupo de pesquisas gostaria de investigar a quantidade de horas conectadas na\n",
        "    internet por faixa etária. Para isso, gostaria de investigar este comportamento de forma\n",
        "    geral e por grupo de idade: adolescentes, jovens adultos, adultos maduros e idosos.\n",
        "    A amostra, por estrato, foi definida segundo a representatividade por faixa etária da\n",
        "    população na região investigada. Desta forma, a amostra deve ser retirada na seguinte\n",
        "    proporção:\n",
        "    • 20% adolescentes,\n",
        "    • 30% jovens adultos,\n",
        "    • 35% adultos maduros,\n",
        "    • 15% idosos.\n",
        "\n",
        "### Conceito: Amostra Sistemática\n",
        "\n",
        "A amostragem sistemática é utilizada quando a ordem dos indivíduos é relevante para o esquema amostral.\n",
        "\n",
        "A **amostragem sistemática (AS)** é um esquema amostral em que os elementos são selecionados a\n",
        "partir de um *critério que é aplicado a toda a população de forma sistemática.*\n",
        "\n",
        "Exemplo: prontuários médicos, domicílios em uma rua, entrada de clientes em um banco, etc.\n",
        "-  Este esquema amostral é fácil de ser aplicado e independe de termos acesso a toda a população.\n",
        "\n",
        "Pode-se, por exemplo, selecionar um elemento a cada dois da população (k=3).\n",
        "\n",
        "Quando se deseja extrair uma amostra sistemática de tamanho **n** de uma população de tamanho **N**, deve-se amostrar um elemento a cada **k = N/n** elementos da população.\n",
        "\n",
        "\n",
        "Passos para n = 2.000, N = 12.000 que gera um k = 6:\n",
        "\n",
        "    • Deve-se selecionar aleatoriamente um elemento dos primeiros k primeiros elementos da lista\n",
        "    populacional.\n",
        "    • Suponha que entre os 6 primeiros elementos, o elemento selecionado aleatoriamente foi o\n",
        "    terceiro.\n",
        "    • De forma sistemática deve-se selecionar os elementos de 6 em 6 a partir do terceiro.\n",
        "\n",
        "#### Aplicação\n",
        "\n",
        "###### Indústria de parafusos\n",
        "\n",
        "    Uma fábrica de parafusos realiza a amostragem de seus produtos para controle de\n",
        "    qualidade.\n",
        "    Seleciona 1 parafuso a cada 1.000 produzidos, e o supervisor de área envia para gerência\n",
        "    de produção a quantidade de parafusos defeituosos no final do dia. Caso seja detectado\n",
        "    um número maior de parafusos defeituosos, a produção deve ser parada e máquina de\n",
        "    parafusos deve receber reparos."
      ]
    },
    {
      "cell_type": "markdown",
      "metadata": {
        "id": "uByc8aIt7Jug"
      },
      "source": [
        "## 3. Cálculo do tamanho amostral & Intervalo de Confiança\n",
        "\n",
        "Dado o esquema amostral discutido no tópico anterior, agora temos o interesse em\n",
        "calcular o tamanho amostral ideal de tal forma que a quantidade de indivíduos\n",
        "selecionados seja representativa da população de interesse.\n",
        "\n",
        "Mas.... qual o **tamanho adequado**?\n",
        "- Deve ser grande o suficiente para encontrar diferenças investigadas no estudo.\n",
        "- Deve ser pequena suficiente para evitar desperdício de recurso (tempo, dinheiro ou\n",
        "colocar em risco algum grupo do estudo).\n",
        "\n",
        "Para determinar o tamanho amostral é necessário definir uma **medida de incerteza** que queremos adotar no estudo, consequentemente influenciando no tamanho da amostra:\n",
        "\n",
        "“**Quanto mais certeza, mais indivíduos serão necessários para a amostra.**”\n",
        "\n",
        "### Relembrando a Margem de Erro\n",
        "\n",
        "Intervalo de confiança y : [x_barra ± margem de erro]\n",
        "\n",
        "De forma bem geral, podemos obter o tamanho amostral da seguinte forma:\n",
        "\n",
        "$ME = Z  \\frac{\\theta}{ \\sqrt{n}}  $ \n",
        "\n",
        "Logo:\n",
        "\n",
        "$ n = Z^2 \\frac{\\theta^2}{ ME^2} $\n",
        "\n",
        "Observação: Adotaremos Z para Za/2 apenas para deixar a notação menos carregada.\n",
        "\n",
        "### Para o cálculo do n amostral\n",
        "\n",
        "Para a obtenção do valor de n é necessário definir a confiança a ser utilizada e a\n",
        "margem de erro:\n",
        "1. **Confiança ($\\gamma$)**: geralmente considera-se 90% (Z = 1,645) ou 95 % (Z = 1,960)\n",
        "de confiança pela distribuição Normal Padrão.\n",
        "2. **Margem de erro (ME)**: é a medida de incerteza que queremos adotar no\n",
        "estudo.\n",
        "\n",
        "À medida que o tamanho populacional cresce, o tamanho amostral converge e os resultados\n",
        "dos cálculos de amostras para população finita e infinita ficam similares.\n"
      ]
    },
    {
      "cell_type": "markdown",
      "metadata": {
        "id": "-MzR-Yzz5fdJ"
      },
      "source": [
        "\n",
        "### Média\n",
        "\n",
        "#### Cases\n",
        "\n",
        "##### Gasto com educação\n",
        "\n",
        "\n",
        "    Deseja-se estimar o valor da mensalidade escolar para crianças do ensino infantil em um\n",
        "    bairro de classe média da cidade de São Paulo. Neste caso, a população é composta por\n",
        "    todas as crianças de 3-6 anos de idade da rede privada, representada por N=15.000\n",
        "    crianças.\n",
        "    Seja m o valor médio gasto por criança na rede privada do ensino infantil, que é\n",
        "    denominado parâmetro populacional.\n",
        "    O valor m não é conhecido e precisa ser estimado.\n",
        "    Estratégia: Retira-se uma amostra de tamanho n da população e estima-se o valor de m.\n",
        "\n",
        "\n",
        "##### Gasto com educação\n",
        "\n",
        "    Considere a afirmação:\n",
        "    A pesquisa indicou que o valor médio pago nas mensalidades escolares é R$1.200 com\n",
        "    uma margem de erro de R$100 e confiança de 95%.\n",
        "    Neste caso, o valor médio pago nas mensalidades escolares para região investigada\n",
        "    estaria entre R$1.100 e R$1.300, com 95% de confiança.\n",
        "    Esta afirmação quer dizer que se a amostra fosse retirada uma infinidade de vezes, 95%\n",
        "    dos intervalos de confiança conteriam o verdadeiro valor da média m populacional."
      ]
    },
    {
      "cell_type": "markdown",
      "metadata": {
        "id": "JgvJYw6vNWiH"
      },
      "source": [
        "#### Definindo funções"
      ]
    },
    {
      "cell_type": "code",
      "metadata": {
        "id": "K1UihCfRGTcG"
      },
      "source": [
        "def margem_de_erro(self, z_value, std, n):\n",
        "\n",
        "  margem_erro = z_value * (std / (n ** 0.5))\n",
        "\n",
        "  return margem_erro\n",
        "\n",
        "def tamanho_amostral(z_value, std, error_margin):\n",
        "\n",
        "  n = ((z_value ** 2) * ( std ** 2) / (error_margin ** 2) )\n",
        "\n",
        "  return n\n",
        "\n",
        "def margem_de_erro_finita(z_value, std, n_sample, n_population):\n",
        "\n",
        "  parte1 = margem_de_erro(z_value, std, n_sample)\n",
        "\n",
        "  ajuste_n = ((n_population - n_sample) / (n_population - 1)) ** 0.5\n",
        "\n",
        "  return parte1 * ajuste_n\n",
        "\n",
        "def tamanho_amostral_finita(z_value, std, error_margin, n_population):\n",
        "\n",
        "  parte_de_cima = (z_value**2) * (std**2) * (n_population)\n",
        "  parte_de_baixo = ((error_margin**2) * (n_population - 1)) + ((z_value**2) * (std**2))\n",
        "\n",
        "  return parte_de_cima / parte_de_baixo"
      ],
      "execution_count": 37,
      "outputs": []
    },
    {
      "cell_type": "markdown",
      "metadata": {
        "id": "Rjb_9fWhNh-v"
      },
      "source": [
        "#### Case: Gasto com educação\n",
        "\n",
        "Inicialmente, deve-se extrair uma amostra piloto para obter o valor de S. Suponha que\n",
        "neste exemplo foi extraída uma amostra piloto com desvio padrão S=R$500 e 95% de\n",
        "confiança.\n",
        "\n",
        "**Resposta**: Do total de 15.000 alunos, considerando\n",
        "uma margem de erro de R$100 e confiança\n",
        "de 95%, o tamanho amostral estimado é de\n",
        "95 alunos."
      ]
    },
    {
      "cell_type": "code",
      "metadata": {
        "id": "GzIRQoDHNdVO",
        "outputId": "783021fd-dd3e-4f77-f5c9-ca68f570b829",
        "colab": {
          "base_uri": "https://localhost:8080/",
          "height": 33
        }
      },
      "source": [
        "Z = 1.96\n",
        "S = 500\n",
        "N = 15000\n",
        "ME = 100\n",
        "\n",
        "statcc.tamanho_amostral_finita(Z, S, ME, N)"
      ],
      "execution_count": 25,
      "outputs": [
        {
          "output_type": "execute_result",
          "data": {
            "text/plain": [
              "95.43532180106841"
            ]
          },
          "metadata": {
            "tags": []
          },
          "execution_count": 25
        }
      ]
    },
    {
      "cell_type": "markdown",
      "metadata": {
        "id": "YY4nLjR7QDWg"
      },
      "source": [
        "A pesquisa foi realizada com n = 95 pais de crianças e obteve-se uma média amostral\n",
        "do valor pago na mensalidade escolar de R\\$1.200.\n",
        "O valor R\\$1.200 é a estimativa pontual da mensalidade escolar das crianças do ensino fundamental do bairro em questão.\n",
        "\n"
      ]
    },
    {
      "cell_type": "markdown",
      "metadata": {
        "id": "KQGLjbsDQ1R8"
      },
      "source": [
        "#### Exercício: Pesquisa de satisfação\n",
        "\n",
        "Um hospital de referência gostaria de fazer uma pesquisa sobre satisfação de\n",
        "atendimento com os pacientes que realizaram consulta. Esta pesquisa tem por objetivo,\n",
        "identificar os pontos de melhoria nos serviços de atendimento, desde recepção, exames\n",
        "laboratoriais, tempo de espera, atenção do médico, recomendações clínicas, etc. O paciente atribui uma nota entre 0 a10 para hospital.\n",
        "\n",
        "Calcule o tamanho amostral considerando um total de 500 pacientes, com 95% de\n",
        "confiança, margem de erro de 1 ponto e S=3,5 pontos na nota da pesquisa."
      ]
    },
    {
      "cell_type": "code",
      "metadata": {
        "id": "MztrVS76Rpf-",
        "outputId": "f1637b15-5ed4-474c-dad8-e5666e60f613",
        "colab": {
          "base_uri": "https://localhost:8080/",
          "height": 66
        }
      },
      "source": [
        "N = 500\n",
        "confianca = 0.95\n",
        "ME = 1\n",
        "S = 3.5\n",
        "\n",
        "Z = statcc.z_value(confianca, \n",
        "                    tipo = 'bilateral')\n",
        "#z = 1.96\n",
        "print(Z)\n",
        "#Calculando valores\n",
        "ta = statcc.tamanho_amostral(Z, S, ME)\n",
        "print('Tamanho Amostral População Infinita:', ta)\n",
        "ta = statcc.tamanho_amostral_finita(Z, S, ME, N)\n",
        "print('Tamanho Amostral População Finita:', ta) # Resposta é a finita, pois se trata de uma população finita e conhecida"
      ],
      "execution_count": 23,
      "outputs": [
        {
          "output_type": "stream",
          "text": [
            "1.959963984540054\n",
            "Tamanho Amostral População Infinita: 47.05787055350304\n",
            "Tamanho Amostral População Finita: 43.08872107804578\n"
          ],
          "name": "stdout"
        }
      ]
    },
    {
      "cell_type": "markdown",
      "metadata": {
        "id": "ZpLqSld71tYC"
      },
      "source": [
        "#### Exercício: Estudo de perfil de base de dados\n",
        "\n",
        "O diretor de uma empresa de telecomunicações gostaria de entender o valor gasto\n",
        "mensalmente no serviço de telefonia pré-pago. A carteira tem aproximadamente 50\n",
        "milhões de clientes.\n",
        "\n",
        "Calcule o tamanho amostral necessário para entender o valor gasto com seus serviços,\n",
        "considerando o resultado da última pesquisa, com desvio padrão amostral 20 reais.\n",
        "Adote 95% de confiança e margem de erro de 2 reais."
      ]
    },
    {
      "cell_type": "code",
      "metadata": {
        "id": "QjLOCK5xQJ33",
        "outputId": "a707422e-29fb-44c8-90da-33399ae275f8",
        "colab": {
          "base_uri": "https://localhost:8080/",
          "height": 66
        }
      },
      "source": [
        "N = 50000000\n",
        "S = 20\n",
        "ME = 2\n",
        "confianca = 0.95\n",
        "\n",
        "Z = statcc.z_value(confianca, \n",
        "                    tipo = 'bilateral')\n",
        "#z = 1.96\n",
        "print(Z)\n",
        "#Calculando valores\n",
        "ta = statcc.tamanho_amostral(Z, S, ME)\n",
        "print('Tamanho Amostral População Infinita:', ta)\n",
        "ta = statcc.tamanho_amostral_finita(Z, S, ME, N)\n",
        "print('Tamanho Amostral População Finita:', ta) \n",
        "\n",
        "# Resposta é a finita, pois se trata de uma população finita e conhecida. Contudo como a população é grande, valores podem ser considerados infinitos."
      ],
      "execution_count": 24,
      "outputs": [
        {
          "output_type": "stream",
          "text": [
            "1.959963984540054\n",
            "Tamanho Amostral População Infinita: 384.14588206941255\n",
            "Tamanho Amostral População Finita: 384.14293841371295\n"
          ],
          "name": "stdout"
        }
      ]
    },
    {
      "cell_type": "markdown",
      "metadata": {
        "id": "pZIISc9T5YEo"
      },
      "source": [
        "### Proporção "
      ]
    },
    {
      "cell_type": "markdown",
      "metadata": {
        "id": "8fxSxUVZ-9Ti"
      },
      "source": [
        "#### Definindo Funções"
      ]
    },
    {
      "cell_type": "code",
      "metadata": {
        "id": "B7KW_P6W-8eG"
      },
      "source": [
        "def margem_de_erro(z, p_barra, n):\n",
        "    temp = (p_barra* (1- p_barra)) / n\n",
        "    me = z * (temp ** 0.5)\n",
        "    return me\n",
        "\n",
        "def tamanho_amostral(z_value, p_barra, error_margin):\n",
        "\n",
        "  n = ((z_value ** 2) * (p_barra * (1 - p_barra) ) / (error_margin ** 2) )\n",
        "\n",
        "  return n\n",
        "\n",
        "def margem_de_erro_finita(z_value, p_barra, n_sample, n_population):\n",
        "\n",
        "  parte1 = margem_de_erro(z_value, p_barra, n_sample)\n",
        "\n",
        "  ajuste_n = ((n_population - n_sample) / (n_population - 1)) ** 0.5\n",
        "\n",
        "  return parte1 * ajuste_n\n",
        "\n",
        "def tamanho_amostral_finita(z_value, std, error_margin, n_population):\n",
        "\n",
        "  parte_de_cima = (z_value**2) * (p_barra * (1 - p_barra)) * (n_population)\n",
        "  parte_de_baixo = ((error_margin**2) * (n_population - 1)) + ((z_value**2) * (p_barra * (1 - p_barra)))\n",
        "\n",
        "  return parte_de_cima / parte_de_baixo"
      ],
      "execution_count": null,
      "outputs": []
    },
    {
      "cell_type": "markdown",
      "metadata": {
        "id": "MlsQfxNP5r0v"
      },
      "source": [
        "#### Case: Pesquisa eleitoral\n",
        "\n",
        "Deseja-se estimar a *proporção de eleitores* que possuem intenção em votar no candidato João\n",
        "para ser representante dos funcionários de uma montadora de carros, no segundo turno das\n",
        "eleições.\n",
        "Qual o tamanho amostral necessário para realização da pesquisa da fábrica que tem **2.000\n",
        "funcionários**?\n",
        "\n",
        "Seja **p** a *proporção populacional de eleitores* que possuem intenção em votar no candidato João.\n",
        "Como **p** é um valor relacionado a toda a população ele é denominado **parâmetro populacional**.\n",
        "\n",
        "**Resposta**:\n",
        "\n",
        "No exemplo, o valor de **p** não é conhecido e precisa ser estimado.\n",
        "**Estratégia**: Retira-se uma amostra de tamanho **n** da população para estimar o valor de **p**.\n",
        "Para estimar o valor de **p** deve ser calculada a *proporção amostral* de pessoas com intenção em\n",
        "votar no candidato João, denominada p_barra.\n",
        "\n",
        "Para estimar a *proporção amostral* de pessoas com intenção em votar no candidato João, é\n",
        "necessário a extração de uma amostra aleatória simples de tamanho **n**.\n"
      ]
    },
    {
      "cell_type": "markdown",
      "metadata": {
        "id": "4Eq69fv8BF5n"
      },
      "source": [
        "\n",
        "Uma pesquisa preliminar indicou que a *proporção amostral* de pessoas com intenção de votar no candidato João é **0,5**. Se for adotado uma **margem de erro de 0,03**, o intervalo de confiança seria:\n",
        "\n",
        "[0,5 ± 0,03] = [0,47; 0,53]\n",
        "\n",
        "Para estimar a proporção amostral de pessoas com intenção em votar no candidato João, o tamanho\n",
        "da amostra necessário seria dado por, com 95% de confiança:"
      ]
    },
    {
      "cell_type": "code",
      "metadata": {
        "id": "koBpyH-5BLtn",
        "outputId": "14e3e02c-f4f0-4bc5-f1aa-1ee47aee037a",
        "colab": {
          "base_uri": "https://localhost:8080/",
          "height": 50
        }
      },
      "source": [
        "confianca = 0.95\n",
        "p = 0.5\n",
        "N = 2000\n",
        "ME = 0.03\n",
        "\n",
        "Z = statcc.z_value(confianca, tipo = 'bilateral')\n",
        "\n",
        "#Calculando valores\n",
        "ta = statcc.proporcao.tamanho_amostral(Z, p, ME)\n",
        "print('Tamanho Amostral População Infinita:', ta)\n",
        "ta = statcc.proporcao.tamanho_amostral_finita(Z, p, ME, N)\n",
        "print('Tamanho Amostral População Finita:', ta) \n",
        "\n",
        "# Resposta:\n",
        "# A amostra necessária para estimar a proporção de pessoas com intenção de votar no candidato\n",
        "# João, com 95% de confiança, seria de 696 funcionários da empresa."
      ],
      "execution_count": 38,
      "outputs": [
        {
          "output_type": "stream",
          "text": [
            "Tamanho Amostral População Infinita: 1067.0718946372572\n",
            "Tamanho Amostral População Finita: 696.0514503939908\n"
          ],
          "name": "stdout"
        }
      ]
    },
    {
      "cell_type": "markdown",
      "metadata": {
        "id": "8hcNBxihFdDy"
      },
      "source": [
        "Selecionou-se aleatoriamente uma amostra de 696 funcionários da fábrica, e com base nesta\n",
        "amostra a intenção em votar no candidato João foi de 0,54, com uma margem de erro de 0,03.\n",
        "O valor 0,54 é a estimativa pontual da verdadeira proporção de pessoas com intenção de votar no\n",
        "candidato João.\n",
        "\n",
        "A estimativa intervalar para a verdadeira proporção de pessoas com intenção em votar no candidato\n",
        "João, considerando 95 % de confiança, é dada por:\n",
        "[0,54 ± 0,03].\n",
        "\n",
        "Desta forma, a proporção populacional de pessoas com intenção em votar no candidato João pode\n",
        "estar entre 0,51 e 0,57, com 95 % de confiança.\n",
        "Conclusão: com 95% de confiança, o candidato João deve ganhar as eleições para representante\n",
        "dos funcionários da empresa."
      ]
    },
    {
      "cell_type": "markdown",
      "metadata": {
        "id": "ljM7hEYDF1qa"
      },
      "source": [
        "#### Exercício: People Analytics\n",
        "\n",
        "O RH de uma empresa **estima que 20% dos seus funcionários estão insatisfeitos** com seus líderes\n",
        "diretos, e se tivessem oportunidade mudariam de gestor. Desta forma, o RH gostaria de confirmar\n",
        "esta suspeita e entrevistar presencialmente os funcionários para entender mais a fundo o motivo\n",
        "da insatisfação.\n",
        "Qual a quantidade de funcionários que o RH da empresa precisaria entrevistar\n",
        "presencialmente, dentre o **total de 1.000 funcionários**, adotando uma **margem de erro de\n",
        "0,025** e **confiança de 95%**?"
      ]
    },
    {
      "cell_type": "code",
      "metadata": {
        "id": "E0KjQO5aGBlT",
        "outputId": "8af3c285-113d-402b-8ff9-68cbd77c1dc6",
        "colab": {
          "base_uri": "https://localhost:8080/",
          "height": 33
        }
      },
      "source": [
        "p = 0.2\n",
        "N = 1000\n",
        "ME = 0.025\n",
        "confianca = 0.95\n",
        "\n",
        "Z = statcc.z_value(confianca, tipo = 'bilateral')\n",
        "\n",
        "#Calculando valores\n",
        "ta = statcc.proporcao.tamanho_amostral_finita(Z, p, ME, N)\n",
        "print('Tamanho Amostral População Finita:', ta) \n",
        "\n",
        "# Resposta:"
      ],
      "execution_count": 39,
      "outputs": [
        {
          "output_type": "stream",
          "text": [
            "Tamanho Amostral População Finita: 496.0687963858809\n"
          ],
          "name": "stdout"
        }
      ]
    },
    {
      "cell_type": "markdown",
      "metadata": {
        "id": "zYA8LFMBHuCd"
      },
      "source": [
        "### Média: Amostra Estratificada\n",
        "\n",
        "Revisar"
      ]
    },
    {
      "cell_type": "markdown",
      "metadata": {
        "id": "Xgv_Yx6NhudY"
      },
      "source": [
        "## Imports"
      ]
    },
    {
      "cell_type": "code",
      "metadata": {
        "id": "m1wOxInChxfX"
      },
      "source": [
        "import math\n",
        "from numpy import random\n",
        "import matplotlib.pyplot as plt\n",
        "import seaborn as sns\n",
        "\n",
        "import scipy.stats as st\n",
        "from scipy.stats import binom"
      ],
      "execution_count": null,
      "outputs": []
    },
    {
      "cell_type": "markdown",
      "metadata": {
        "id": "Ww9Z59DsLx4b"
      },
      "source": [
        "## Funções"
      ]
    },
    {
      "cell_type": "code",
      "metadata": {
        "id": "8Xs8fbYgLy-9"
      },
      "source": [
        "class statcc:\n",
        "\n",
        "    def __init__(self):\n",
        "\n",
        "        pass\n",
        "\n",
        "    ## Margem de erro\n",
        "    #################\n",
        "\n",
        "    def margem_de_erro( z_value, std, n):\n",
        "\n",
        "        margem_erro = z_value * (std / (n ** 0.5))\n",
        "\n",
        "        return margem_erro\n",
        "\n",
        "    def margem_de_erro_t( t, std_amostral, n):\n",
        "        \"\"\" \n",
        "        Trata-se da mesma fórmula de margem de erro, mas com notações diferentes.\n",
        "        \"\"\"\n",
        "\n",
        "        margem_erro = t * (std_amostral / (n ** 0.5))\n",
        "\n",
        "        return margem_erro\n",
        "\n",
        "    def intervalo_confianca( x, margem_de_erro):\n",
        "        return x - margem_de_erro, x + margem_de_erro\n",
        "\n",
        "\n",
        "    def tamanho_amostral( z_value, std, error_margin):\n",
        "\n",
        "        n = ((z_value ** 2) * ( std ** 2) / (error_margin ** 2) )\n",
        "\n",
        "        return n\n",
        "\n",
        "    def margem_de_erro_finita( z_value, std, n_sample, n_population):\n",
        "\n",
        "        parte1 = self.margem_de_erro(z_value, std, n_sample)\n",
        "\n",
        "        ajuste_n = ((n_population - n_sample) / (n_population - 1)) ** 0.5\n",
        "\n",
        "        return parte1 * ajuste_n\n",
        "\n",
        "    def tamanho_amostral_finita( z_value, std, error_margin, n_population):\n",
        "\n",
        "        parte_de_cima = (z_value**2) * (std**2) * (n_population)\n",
        "        parte_de_baixo = ((error_margin**2) * (n_population - 1)) + ((z_value**2) * (std**2))\n",
        "\n",
        "        return parte_de_cima / parte_de_baixo\n",
        "\n",
        "    ## Teste de Hipoteses\n",
        "\n",
        "    def calculo_z( x_barra, u, std, n):\n",
        "        return (x_barra - u) / (std / (n**0.5))\n",
        "\n",
        "    def calculo_t( x_barra, u, s, n):\n",
        "        return (x_barra - u) /( s / (n**0.5))\n",
        "\n",
        "    def z_value( confianca, tipo = 'unilateral'):\n",
        "        \"\"\"\n",
        "        Retorna o valor de Z com base em um nível de confiânça. Tipo indica se valor avaliado é uni ou bilateral.\n",
        "        \n",
        "        import scipy.stats as st\n",
        "        st.norm.ppf()\n",
        "        \"\"\"\n",
        "        if tipo == 'bilateral':\n",
        "            alpha = 1 - confianca\n",
        "            alpha = alpha / 2\n",
        "            confianca = 1 - alpha\n",
        "        Z = st.norm.ppf(confianca)\n",
        "\n",
        "        return Z\n",
        "\n",
        "    def teste_de_hipoteses( n, u, x, std, confianca, tipo_hipotese, teste):\n",
        "        \"\"\"\n",
        "        tipo_hipotese => ['bilateral', '>', '<']\n",
        "        teste => 't ou 'z'\n",
        "        \"\"\"\n",
        "\n",
        "        if teste == 't':\n",
        "            s = std\n",
        "\n",
        "        # Defina H0 e H1\n",
        "        H0 = 'H0: u = ' + str(u)\n",
        "        if tipo_hipotese == 'bilateral':\n",
        "            H1 = 'H1: u != '+ str(u)\n",
        "        else:\n",
        "            H1 = f'H1: u {tipo_hipotese} '+ str(u)\n",
        "\n",
        "        print('Definindo Hipoteses:')\n",
        "        print(H0)\n",
        "        print(H1)\n",
        "\n",
        "        if tipo_hipotese == 'bilateral':\n",
        "            alpha = 1 - confianca\n",
        "            alpha = alpha / 2\n",
        "            confianca = 1 - alpha\n",
        "        else:\n",
        "            alpha = 1 - confianca\n",
        "        print(f'Confiança: {confianca}')\n",
        "        print(f'Alpha: {alpha}')\n",
        "\n",
        "\n",
        "        # Encontrando estatística do teste\n",
        "        if teste == 't':\n",
        "            t = calculo_t(x, u, s, n)\n",
        "            print(f'\\nValor de t: {t}')\n",
        "        else:\n",
        "            z = calculo_z(x, u, std, n)\n",
        "            print(f'\\nValor de Z: {z}')\n",
        "\n",
        "\n",
        "        print('_____________')\n",
        "\n",
        "        ##############################\n",
        "        ## Decisão pela região crítica\n",
        "        ##############################\n",
        "\n",
        "        print('\\n>>> Decisão pela região crítica\\n')\n",
        "\n",
        "        import scipy.stats as st\n",
        "\n",
        "        if teste == 't':\n",
        "            graus_de_liberdade = n -1\n",
        "            t0 = scipy.stats.t.ppf(confianca, graus_de_liberdade)\n",
        "            print('T0 com confiança de', confianca,'->', t0)\n",
        "        else:\n",
        "            # Inputa a probabilidade e ele mostra o Z\n",
        "            z0 = st.norm.ppf(confianca)\n",
        "            print('Z0 com confiança de', confianca,'->', z0)\n",
        "\n",
        "        print('_____________')\n",
        "\n",
        "        #######################\n",
        "        ## Decisão pelo p-valor\n",
        "        #######################\n",
        "\n",
        "        print('\\n>>> Decisão pelo p-valor\\n')\n",
        "\n",
        "        if teste == 't':\n",
        "            if t > 0:\n",
        "                p_value = scipy.stats.t.sf(t, graus_de_liberdade)\n",
        "            else:\n",
        "                p_value = scipy.stats.t.sf(t * (-1), graus_de_liberdade)\n",
        "        else:\n",
        "            if z > 0:\n",
        "                p_value = scipy.stats.norm.sf(z)\n",
        "            else:\n",
        "                p_value = scipy.stats.norm.sf(z * (-1))\n",
        "\n",
        "        if tipo_hipotese == 'bilateral':\n",
        "            p_value *= 2\n",
        "            alpha *= 2\n",
        "\n",
        "        print(f'P Valor do Teste: {p_value}')\n",
        "        print(f'Valor Alpha: {alpha}')\n",
        "        print('_____________')\n",
        "\n",
        "        #########################\n",
        "        ## Intervalo de Confiânça\n",
        "        #########################\n",
        "\n",
        "        print('\\n>>> Intervalo de Confiânça\\n')\n",
        "\n",
        "        if teste == 't':\n",
        "            margem = margem_de_erro_t(t0, s, n)\n",
        "        else:\n",
        "            margem = margem_de_erro(z0, std, n)\n",
        "\n",
        "        #Calculando intervalo de confiança\n",
        "        intervalo = intervalo_confianca(x, margem)\n",
        "        print(f'Intervalo de Confiança: {intervalo}')\n",
        "        print('_____________')\n",
        "\n",
        "    class proporcao():\n",
        "        \"\"\"\n",
        "        - ME é a margem de erro do estudo.\n",
        "        - Z é o valor da Distribuição\n",
        "        Normal que fornece a\n",
        "        confiança desejada.\n",
        "        - p_barra(1 − p_barra) é a variância estimada que é função de p_barra fornecido \n",
        "        pela amostra piloto.\n",
        "        - N é o tamanho populacional.\n",
        "        \"\"\"\n",
        "        pass\n",
        "\n",
        "        def hipotese(p, p_barra, n):\n",
        "            \"\"\"\n",
        "            p é a proporção populacional\n",
        "            O p_barra é a proporção amostral\n",
        "            n é o tamanho da amostra\n",
        "            \"\"\"\n",
        "\n",
        "            superior = (p_barra - p)\n",
        "            inferior = (p*(1-p)) / n\n",
        "\n",
        "            return superior / (inferior ** 0.5)\n",
        "\n",
        "\n",
        "        def intervalo_confianca(p_barra, me):\n",
        "            return p_barra - me, p_barra + me\n",
        "\n",
        "        def margem_de_erro(z, p_barra, n):\n",
        "            temp = (p_barra* (1- p_barra)) / n\n",
        "            me = z * (temp ** 0.5)\n",
        "            return me\n",
        "\n",
        "        def tamanho_amostral(z_value, p_barra, error_margin):\n",
        "\n",
        "            n = ((z_value ** 2) * (p_barra * (1 - p_barra) ) / (error_margin ** 2) )\n",
        "\n",
        "            return n\n",
        "\n",
        "        def margem_de_erro_finita(z_value, p_barra, n_sample, n_population):\n",
        "\n",
        "            parte1 = statcc.proporcao.margem_de_erro(z_value, p_barra, n_sample)\n",
        "\n",
        "            ajuste_n = ((n_population - n_sample) / (n_population - 1)) ** 0.5\n",
        "\n",
        "            return parte1 * ajuste_n\n",
        "\n",
        "        def tamanho_amostral_finita(z_value, p_barra, error_margin, n_population):\n",
        "\n",
        "            parte_de_cima = (z_value**2) * (p_barra * (1 - p_barra)) * (n_population)\n",
        "            parte_de_baixo = ((error_margin**2) * (n_population - 1)) + ((z_value**2) * (p_barra * (1 - p_barra)))\n",
        "\n",
        "            return parte_de_cima / parte_de_baixo\n",
        "\n",
        "        def teste_de_hipoteses(p, p_barra, n, confianca, tipo_hipotese):\n",
        "            \"\"\"\n",
        "            tipo_hipotese => ['bilateral', '>', '<']\n",
        "            \"\"\"\n",
        "\n",
        "            # Defina H0 e H1\n",
        "            H0 = 'H0: u = ' + str(p)\n",
        "            if tipo_hipotese == 'bilateral':\n",
        "                H1 = 'H1: u != '+ str(p)\n",
        "            else:\n",
        "                H1 = f'H1: u {tipo_hipotese} '+ str(p)\n",
        "\n",
        "            print('Definindo Hipoteses:')\n",
        "            print(H0)\n",
        "            print(H1)\n",
        "\n",
        "            if tipo_hipotese == 'bilateral':\n",
        "                alpha = 1 - confianca\n",
        "                alpha = alpha / 2\n",
        "                confianca = 1 - alpha\n",
        "            else:\n",
        "                alpha = 1 - confianca\n",
        "            print(f'Confiança: {confianca}')\n",
        "            print(f'Alpha: {alpha}')\n",
        "\n",
        "\n",
        "            # Encontrando estatística do teste\n",
        "            z = statcc.proporcao.hipotese(p, p_barra, n)\n",
        "            print(f'\\nValor de Z: {z}')\n",
        "            print('_____________')\n",
        "\n",
        "            ##############################\n",
        "            ## Decisão pela região crítica\n",
        "            ##############################\n",
        "\n",
        "            print('\\n>>> Decisão pela região crítica\\n')\n",
        "\n",
        "            # Inputa a probabilidade e ele mostra o Z\n",
        "            z0 = st.norm.ppf(confianca)\n",
        "            print('Z0 com confiança de', confianca,'->', z0)\n",
        "\n",
        "            print('_____________')\n",
        "\n",
        "            #######################\n",
        "            ## Decisão pelo p-valor\n",
        "            #######################\n",
        "\n",
        "            print('\\n>>> Decisão pelo p-valor\\n')\n",
        "\n",
        "            if z > 0:\n",
        "                p_value = scipy.stats.norm.sf(z)\n",
        "            else:\n",
        "                p_value = scipy.stats.norm.sf(z * (-1))\n",
        "\n",
        "            if tipo_hipotese == 'bilateral':\n",
        "                p_value *= 2\n",
        "                alpha *= 2\n",
        "\n",
        "            print(f'P Valor do Teste: {p_value}')\n",
        "            print(f'Valor Alpha: {alpha}')\n",
        "            print('_____________')\n",
        "\n",
        "            #########################\n",
        "            ## Intervalo de Confiânça\n",
        "            #########################\n",
        "\n",
        "            print('\\n>>> Intervalo de Confiânça\\n')\n",
        "\n",
        "            margem = statcc.proporcao.margem_de_erro(z0, p_barra, n)\n",
        "\n",
        "            #Calculando intervalo de confiança\n",
        "            intervalo = statcc.proporcao.intervalo_confianca(p_barra, margem)\n",
        "            print(f'Intervalo de Confiança: {intervalo}')\n",
        "            print('_____________')"
      ],
      "execution_count": null,
      "outputs": []
    }
  ]
}